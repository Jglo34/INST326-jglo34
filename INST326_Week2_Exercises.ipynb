{
  "cells": [
    {
      "cell_type": "markdown",
      "id": "997c09e6",
      "metadata": {
        "id": "997c09e6"
      },
      "source": [
        "# INST326 — Week 2 Exercises (Library Management Project) — **With Solutions**\n",
        "\n",
        "**Scope:** conditionals, loops, basic lists. **No functions** (functions begin in Week 3). Also avoid Week 3+ topics (dictionaries, list comprehensions, files, exceptions, classes)."
      ]
    },
    {
      "cell_type": "markdown",
      "id": "139a53d8",
      "metadata": {
        "id": "139a53d8"
      },
      "source": [
        "\n",
        "### Python skills needed\n",
        "- Variables, numeric & string basics; `len()`\n",
        "- Comparisons & logical operators: `==`, `!=`, `<`, `>`, `<=`, `>=`, `and`, `or`, `not`\n",
        "- **Conditionals:** `if`, `elif`, `else`\n",
        "- **Loops:** `for`, `while`\n",
        "- **Lists:** create, index, (positive) slice, `append`, `insert`, `remove`, `pop`, `sort`, `reverse`, `len`\n",
        "- Avoid: functions, dictionaries/sets/tuples, list comprehensions, file I/O, exceptions, classes/objects, external libraries\n"
      ]
    },
    {
      "cell_type": "markdown",
      "id": "31b14345",
      "metadata": {
        "id": "31b14345"
      },
      "source": [
        "\n",
        "### Reusable starter data\n",
        "```python\n",
        "titles = [\"Python 101\", \"Data Wrangling\", \"AI Basics\", \"Networks\", \"UX Design\"]\n",
        "authors = [\"Ng\", \"Lee\", \"Patel\", \"Garcia\", \"Kim\"]\n",
        "available = [True, True, False, True, False]  # parallel to titles\n",
        "member_names = [\"Ava\", \"Ben\", \"Cam\", \"Dev\", \"Eli\"]\n",
        "loan_counts = [2, 0, 3, 1, 4]\n",
        "```\n"
      ]
    },
    {
      "cell_type": "markdown",
      "id": "dfb52010",
      "metadata": {
        "id": "dfb52010"
      },
      "source": [
        "#### 1) Check availability (if/else). Using the lists above, print `\"Available\"` if the first book is available, otherwise print `\"Checked out\"`."
      ]
    },
    {
      "cell_type": "markdown",
      "id": "daf31887",
      "metadata": {
        "id": "daf31887"
      },
      "source": [
        "**Solution:**"
      ]
    },
    {
      "cell_type": "code",
      "execution_count": 52,
      "id": "d1a14e5a",
      "metadata": {
        "id": "d1a14e5a",
        "colab": {
          "base_uri": "https://localhost:8080/"
        },
        "outputId": "b2ceded6-8a9f-4c07-d003-0e763562cce0"
      },
      "outputs": [
        {
          "output_type": "stream",
          "name": "stdout",
          "text": [
            "Available\n"
          ]
        }
      ],
      "source": [
        "titles = [\"Python 101\", \"Data Wrangling\", \"AI Basics\", \"Networks\", \"UX Design\"]\n",
        "available = [True, True, False, True, False]\n",
        "# your code here\n",
        "if available[0]:\n",
        "    print(\"Available\")\n",
        "else:\n",
        "    print(\"Checked out\")"
      ]
    },
    {
      "cell_type": "markdown",
      "id": "18035f75",
      "metadata": {
        "id": "18035f75"
      },
      "source": [
        "#### 2) Toggle a book's availability. Flip the availability of the third book (index 2) and print the updated `available` list."
      ]
    },
    {
      "cell_type": "markdown",
      "id": "c2b9036a",
      "metadata": {
        "id": "c2b9036a"
      },
      "source": [
        "**Solution:**"
      ]
    },
    {
      "cell_type": "code",
      "execution_count": 51,
      "id": "88c73771",
      "metadata": {
        "id": "88c73771",
        "colab": {
          "base_uri": "https://localhost:8080/"
        },
        "outputId": "f02b24ba-f997-4a74-c91a-a535ad0d8364"
      },
      "outputs": [
        {
          "output_type": "stream",
          "name": "stdout",
          "text": [
            "[True, True, True, True, False, True]\n"
          ]
        }
      ],
      "source": [
        "# your code here\n",
        "available[2] = not available[2]\n",
        "print(available)"
      ]
    },
    {
      "cell_type": "markdown",
      "id": "208b37f5",
      "metadata": {
        "id": "208b37f5"
      },
      "source": [
        "#### 3) Basic list add. Append a new title `\"Human-Centered AI\"` to `titles` and print the length of `titles`."
      ]
    },
    {
      "cell_type": "markdown",
      "id": "e98a1e1e",
      "metadata": {
        "id": "e98a1e1e"
      },
      "source": [
        "**Solution:**"
      ]
    },
    {
      "cell_type": "code",
      "execution_count": 50,
      "id": "7af1686e",
      "metadata": {
        "id": "7af1686e",
        "colab": {
          "base_uri": "https://localhost:8080/"
        },
        "outputId": "fd854336-b135-48c8-9b7e-7780170b4aa3"
      },
      "outputs": [
        {
          "output_type": "stream",
          "name": "stdout",
          "text": [
            "['UX Design', 'Python 101', 'Human-Centered AI', 'Data Wrangling', 'AI Basics', 'Human-Centered AI']\n",
            "6\n"
          ]
        }
      ],
      "source": [
        "# your code here\n",
        "titles.append(\"Human-Centered AI\")\n",
        "print(titles)\n",
        "print(len(titles))"
      ]
    },
    {
      "cell_type": "markdown",
      "id": "9795bc54",
      "metadata": {
        "id": "9795bc54"
      },
      "source": [
        "#### 4) Parallel insert. Insert a new author `\"Russell\"` at the same position as the new title `\"Human-Centered AI\"`. Keep lists aligned."
      ]
    },
    {
      "cell_type": "markdown",
      "id": "6f6f6b7a",
      "metadata": {
        "id": "6f6f6b7a"
      },
      "source": [
        "**Solution:**"
      ]
    },
    {
      "cell_type": "code",
      "execution_count": 49,
      "id": "04c62401",
      "metadata": {
        "id": "04c62401",
        "colab": {
          "base_uri": "https://localhost:8080/"
        },
        "outputId": "d37ea9fb-c59a-432b-c7f5-8589241a9286"
      },
      "outputs": [
        {
          "output_type": "stream",
          "name": "stdout",
          "text": [
            "['Ng', 'Lee', 'Patel', 'Garcia', 'Kim', 'Russell']\n"
          ]
        }
      ],
      "source": [
        "# your code here\n",
        "authors = [\"Ng\", \"Lee\", \"Patel\", \"Garcia\", \"Kim\"] # Redefine authors list\n",
        "authors.insert(5, \"Russell\")\n",
        "print(authors)"
      ]
    },
    {
      "cell_type": "markdown",
      "id": "159dc832",
      "metadata": {
        "id": "159dc832"
      },
      "source": [
        "#### 5) Simple search (if `in`). Ask: does `\"AI Basics\"` exist in `titles`? If yes, print its index; else print `-1`."
      ]
    },
    {
      "cell_type": "markdown",
      "id": "eb4bc60f",
      "metadata": {
        "id": "eb4bc60f"
      },
      "source": [
        "**Solution:**"
      ]
    },
    {
      "cell_type": "code",
      "execution_count": 48,
      "id": "5ca2409b",
      "metadata": {
        "id": "5ca2409b",
        "colab": {
          "base_uri": "https://localhost:8080/"
        },
        "outputId": "1dd6635c-f850-49e8-efac-17c2b8d16f52"
      },
      "outputs": [
        {
          "output_type": "stream",
          "name": "stdout",
          "text": [
            "4\n"
          ]
        }
      ],
      "source": [
        "# your code here\n",
        "if \"AI Basics\" in titles:\n",
        "    print(titles.index(\"AI Basics\"))\n",
        "else:\n",
        "    print(-1)"
      ]
    },
    {
      "cell_type": "markdown",
      "id": "ce052e38",
      "metadata": {
        "id": "ce052e38"
      },
      "source": [
        "#### 6) Count checkouts via loop. Given `available`, count how many books are currently checked out (`False`)."
      ]
    },
    {
      "cell_type": "markdown",
      "id": "e63438f5",
      "metadata": {
        "id": "e63438f5"
      },
      "source": [
        "**Solution:**"
      ]
    },
    {
      "cell_type": "code",
      "execution_count": 47,
      "id": "77551e68",
      "metadata": {
        "id": "77551e68",
        "colab": {
          "base_uri": "https://localhost:8080/"
        },
        "outputId": "76ad0c08-468b-44f4-95cf-f5a9c87724cb"
      },
      "outputs": [
        {
          "output_type": "stream",
          "name": "stdout",
          "text": [
            "2\n"
          ]
        }
      ],
      "source": [
        "# your code here\n",
        "count = 0\n",
        "for book in available:\n",
        "    if not book:\n",
        "        count += 1\n",
        "print(count)"
      ]
    },
    {
      "cell_type": "markdown",
      "id": "b51e0196",
      "metadata": {
        "id": "b51e0196"
      },
      "source": [
        "#### 7) First available book. Find and print the first title that is available using a `for` loop and `if`. If none are available, print `\"No books available\"`."
      ]
    },
    {
      "cell_type": "markdown",
      "id": "3fe6d53c",
      "metadata": {
        "id": "3fe6d53c"
      },
      "source": [
        "**Solution:**"
      ]
    },
    {
      "cell_type": "code",
      "execution_count": 46,
      "id": "4d2ab519",
      "metadata": {
        "id": "4d2ab519",
        "colab": {
          "base_uri": "https://localhost:8080/"
        },
        "outputId": "8d9d8cbd-47d3-4fd0-9103-f276e7b98a5e"
      },
      "outputs": [
        {
          "output_type": "stream",
          "name": "stdout",
          "text": [
            "UX Design\n"
          ]
        }
      ],
      "source": [
        "# your code here\n",
        "found = False\n",
        "for i in range(len(titles)):\n",
        "    if available[i]:\n",
        "        print(titles[i])\n",
        "        found = True\n",
        "        break\n",
        "if not found:\n",
        "    print(\"No books available\")"
      ]
    },
    {
      "cell_type": "markdown",
      "id": "6e0ef486",
      "metadata": {
        "id": "6e0ef486"
      },
      "source": [
        "#### 8) Basic sorting. Sort `titles` alphabetically in place. Then reverse them in place. Print after each step."
      ]
    },
    {
      "cell_type": "markdown",
      "id": "bf7bceb6",
      "metadata": {
        "id": "bf7bceb6"
      },
      "source": [
        "**Solution:**"
      ]
    },
    {
      "cell_type": "code",
      "execution_count": 45,
      "id": "78fc4886",
      "metadata": {
        "id": "78fc4886",
        "colab": {
          "base_uri": "https://localhost:8080/"
        },
        "outputId": "3ea93b05-1d9a-4773-bc53-8507273a5dbb"
      },
      "outputs": [
        {
          "output_type": "stream",
          "name": "stdout",
          "text": [
            "['AI Basics', 'Data Wrangling', 'Human-Centered AI', 'Python 101', 'UX Design']\n",
            "['UX Design', 'Python 101', 'Human-Centered AI', 'Data Wrangling', 'AI Basics']\n"
          ]
        }
      ],
      "source": [
        "# your code here\n",
        "titles.sort()\n",
        "print(titles)\n",
        "titles.reverse()\n",
        "print(titles)"
      ]
    },
    {
      "cell_type": "markdown",
      "id": "0d2d85e5",
      "metadata": {
        "id": "0d2d85e5"
      },
      "source": [
        "#### 9) Remove a lost book. Remove the title `\"Networks\"` from `titles`. (Assume it exists.)"
      ]
    },
    {
      "cell_type": "markdown",
      "id": "95eeb451",
      "metadata": {
        "id": "95eeb451"
      },
      "source": [
        "**Solution:**"
      ]
    },
    {
      "cell_type": "code",
      "execution_count": 44,
      "id": "46b7211d",
      "metadata": {
        "id": "46b7211d",
        "colab": {
          "base_uri": "https://localhost:8080/"
        },
        "outputId": "373795b8-53dc-4d21-eb05-d510a3d5a039"
      },
      "outputs": [
        {
          "output_type": "stream",
          "name": "stdout",
          "text": [
            "['Python 101', 'AI Basics', 'UX Design', 'Human-Centered AI', 'Data Wrangling']\n"
          ]
        }
      ],
      "source": [
        "# your code here\n",
        "titles.remove(\"Networks\")\n",
        "print(titles)\n"
      ]
    },
    {
      "cell_type": "markdown",
      "id": "2c3f8a8c",
      "metadata": {
        "id": "2c3f8a8c"
      },
      "source": [
        "#### 10) Index-safe remove. Try to remove `\"Quantum Design\"` from `titles`. If not present, print a message (no error)."
      ]
    },
    {
      "cell_type": "markdown",
      "id": "d8df1c01",
      "metadata": {
        "id": "d8df1c01"
      },
      "source": [
        "**Solution:**"
      ]
    },
    {
      "cell_type": "code",
      "execution_count": 43,
      "id": "3faccdf1",
      "metadata": {
        "id": "3faccdf1",
        "colab": {
          "base_uri": "https://localhost:8080/"
        },
        "outputId": "25b86786-c52c-4cba-e9db-5f9045611e85"
      },
      "outputs": [
        {
          "output_type": "stream",
          "name": "stdout",
          "text": [
            "Not present\n"
          ]
        }
      ],
      "source": [
        "# your code here\n",
        "try:\n",
        "    titles.remove(\"Quantum Design\")\n",
        "except ValueError:\n",
        "    print(\"Not present\")\n"
      ]
    },
    {
      "cell_type": "markdown",
      "id": "c0d737b7",
      "metadata": {
        "id": "c0d737b7"
      },
      "source": [
        "#### 11) Member eligibility. Given `loan_counts`, print `\"OK to borrow\"` if `loan_counts[1] < 3`, else `\"Limit reached\"`."
      ]
    },
    {
      "cell_type": "markdown",
      "id": "e5313104",
      "metadata": {
        "id": "e5313104"
      },
      "source": [
        "**Solution:**"
      ]
    },
    {
      "cell_type": "code",
      "execution_count": 42,
      "id": "34358792",
      "metadata": {
        "id": "34358792",
        "colab": {
          "base_uri": "https://localhost:8080/"
        },
        "outputId": "d5b381b7-c33c-4a73-b028-eb09c6bcad21"
      },
      "outputs": [
        {
          "output_type": "stream",
          "name": "stdout",
          "text": [
            "OK to borrow\n"
          ]
        }
      ],
      "source": [
        "# your code here\n",
        "if loan_counts[1] < 3:\n",
        "    print(\"OK to borrow\")\n",
        "else:\n",
        "    print(\"Limit reached\")\n"
      ]
    },
    {
      "cell_type": "markdown",
      "id": "9b2dcf30",
      "metadata": {
        "id": "9b2dcf30"
      },
      "source": [
        "#### 12) Simple policy check (if/elif/else). For `days_overdue`, print: `\"No fine\"` if `<= 0`; `\"Small fine\"` if `1-5`; `\"Large fine\"` if `> 5`."
      ]
    },
    {
      "cell_type": "markdown",
      "id": "f98be289",
      "metadata": {
        "id": "f98be289"
      },
      "source": [
        "**Solution:**"
      ]
    },
    {
      "cell_type": "code",
      "execution_count": 41,
      "id": "773e4fca",
      "metadata": {
        "id": "773e4fca",
        "colab": {
          "base_uri": "https://localhost:8080/"
        },
        "outputId": "4f507f25-026e-44a5-9b99-420510e54d22"
      },
      "outputs": [
        {
          "output_type": "stream",
          "name": "stdout",
          "text": [
            "Small fine\n"
          ]
        }
      ],
      "source": [
        "# your code here\n",
        "days_overdue = 3\n",
        "if days_overdue <= 0:\n",
        "    print(\"No fine\")\n",
        "elif days_overdue <= 5:\n",
        "    print(\"Small fine\")\n",
        "else:\n",
        "    print(\"Large fine\")\n"
      ]
    },
    {
      "cell_type": "markdown",
      "id": "e2b45428",
      "metadata": {
        "id": "e2b45428"
      },
      "source": [
        "#### 13) Build an availability report. Print lines like `\"Python 101: Available\"` or `\"AI Basics: Checked out\"` for all books."
      ]
    },
    {
      "cell_type": "markdown",
      "id": "ff9e1646",
      "metadata": {
        "id": "ff9e1646"
      },
      "source": [
        "**Solution:**"
      ]
    },
    {
      "cell_type": "code",
      "execution_count": 40,
      "id": "4050f8a0",
      "metadata": {
        "id": "4050f8a0",
        "colab": {
          "base_uri": "https://localhost:8080/"
        },
        "outputId": "9dead2de-4cfe-4ad1-cb65-333fa40582b9"
      },
      "outputs": [
        {
          "output_type": "stream",
          "name": "stdout",
          "text": [
            "Python 101: Available\n",
            "AI Basics: Available\n",
            "Networks: Checked out\n",
            "UX Design: Available\n",
            "Human-Centered AI: Checked out\n",
            "Data Wrangling: Available\n"
          ]
        }
      ],
      "source": [
        "# your code here\n",
        "for i in range(len(titles)):\n",
        "    if available[i]:\n",
        "        print(f\"{titles[i]}: Available\")\n",
        "    else:\n",
        "        print(f\"{titles[i]}: Checked out\")\n"
      ]
    },
    {
      "cell_type": "markdown",
      "id": "018ee21b",
      "metadata": {
        "id": "018ee21b"
      },
      "source": [
        "#### 14) Find longest title (via loop; no `max` key)."
      ]
    },
    {
      "cell_type": "markdown",
      "id": "bd15164f",
      "metadata": {
        "id": "bd15164f"
      },
      "source": [
        "**Solution:**"
      ]
    },
    {
      "cell_type": "code",
      "execution_count": 39,
      "id": "c88627b5",
      "metadata": {
        "id": "c88627b5",
        "colab": {
          "base_uri": "https://localhost:8080/"
        },
        "outputId": "da5c0963-f1a8-44ff-853f-8d6ba962b042"
      },
      "outputs": [
        {
          "output_type": "stream",
          "name": "stdout",
          "text": [
            "Human-Centered AI\n"
          ]
        }
      ],
      "source": [
        "# your code here\n",
        "longest = \"\"\n",
        "for title in titles:\n",
        "    if len(title) > len(longest):\n",
        "        longest = title\n",
        "print(longest)\n"
      ]
    },
    {
      "cell_type": "markdown",
      "id": "fe908d84",
      "metadata": {
        "id": "fe908d84"
      },
      "source": [
        "#### 15) Basic slice (positive indices only). Print the first three titles using slicing."
      ]
    },
    {
      "cell_type": "markdown",
      "id": "926f66cb",
      "metadata": {
        "id": "926f66cb"
      },
      "source": [
        "**Solution:**"
      ]
    },
    {
      "cell_type": "code",
      "execution_count": 38,
      "id": "5fbb1f65",
      "metadata": {
        "id": "5fbb1f65",
        "colab": {
          "base_uri": "https://localhost:8080/"
        },
        "outputId": "45ce7cbd-dca5-4f03-9cd4-b9fb3620d23b"
      },
      "outputs": [
        {
          "output_type": "stream",
          "name": "stdout",
          "text": [
            "['Python 101', 'AI Basics', 'Networks']\n"
          ]
        }
      ],
      "source": [
        "# your code here\n",
        "print(titles[:3])\n"
      ]
    },
    {
      "cell_type": "markdown",
      "id": "cb8c0648",
      "metadata": {
        "id": "cb8c0648"
      },
      "source": [
        "#### 16) Move a title to the end. Pop the title at index `1` and append it to the end."
      ]
    },
    {
      "cell_type": "markdown",
      "id": "bb98f4a7",
      "metadata": {
        "id": "bb98f4a7"
      },
      "source": [
        "**Solution:**"
      ]
    },
    {
      "cell_type": "code",
      "execution_count": 37,
      "id": "6eed930c",
      "metadata": {
        "id": "6eed930c",
        "colab": {
          "base_uri": "https://localhost:8080/"
        },
        "outputId": "93a0121e-e56e-4f51-85c3-1b16c6b2e54a"
      },
      "outputs": [
        {
          "output_type": "stream",
          "name": "stdout",
          "text": [
            "['Python 101', 'Data Wrangling', 'AI Basics', 'Networks', 'UX Design', 'Human-Centered AI']\n",
            "['Python 101', 'AI Basics', 'Networks', 'UX Design', 'Human-Centered AI', 'Data Wrangling']\n"
          ]
        }
      ],
      "source": [
        "# your code here\n",
        "print(titles)\n",
        "title = titles.pop(1)\n",
        "titles.append(title)\n",
        "print(titles)\n"
      ]
    },
    {
      "cell_type": "markdown",
      "id": "6db0c132",
      "metadata": {
        "id": "6db0c132"
      },
      "source": [
        "#### 17) Matching by position. Given `titles` and `authors` as parallel lists, print `\"<title> by <author>\"` for each index."
      ]
    },
    {
      "cell_type": "markdown",
      "id": "fd1c7cbc",
      "metadata": {
        "id": "fd1c7cbc"
      },
      "source": [
        "**Solution:**"
      ]
    },
    {
      "cell_type": "code",
      "execution_count": 36,
      "id": "4430f5ae",
      "metadata": {
        "id": "4430f5ae",
        "colab": {
          "base_uri": "https://localhost:8080/"
        },
        "outputId": "f83007fc-f2d9-487f-c650-5a282c829a68"
      },
      "outputs": [
        {
          "output_type": "stream",
          "name": "stdout",
          "text": [
            "Python 101 by Ng\n",
            "Data Wrangling by Lee\n",
            "AI Basics by Patel\n",
            "Networks by Garcia\n",
            "UX Design by Kim\n",
            "Human-Centered AI by Russell\n"
          ]
        }
      ],
      "source": [
        "# your code here\n",
        "for i in range(len(titles)):\n",
        "    print(f\"{titles[i]} by {authors[i]}\")"
      ]
    },
    {
      "cell_type": "markdown",
      "id": "15d48b6e",
      "metadata": {
        "id": "15d48b6e"
      },
      "source": [
        "#### 18) Any available? Loop & conditional to set `any_available` to `True` if any book is available; else `False`. Print the result."
      ]
    },
    {
      "cell_type": "markdown",
      "id": "8201c548",
      "metadata": {
        "id": "8201c548"
      },
      "source": [
        "**Solution:**"
      ]
    },
    {
      "cell_type": "code",
      "execution_count": 35,
      "id": "1e846be6",
      "metadata": {
        "id": "1e846be6",
        "colab": {
          "base_uri": "https://localhost:8080/"
        },
        "outputId": "85543d6c-cd61-456f-def7-5bc8f415617c"
      },
      "outputs": [
        {
          "output_type": "stream",
          "name": "stdout",
          "text": [
            "True\n"
          ]
        }
      ],
      "source": [
        "# your code here\n",
        "any_available = False\n",
        "for book in available:\n",
        "    if book:\n",
        "        any_available = True\n",
        "        break\n",
        "print(any_available)\n"
      ]
    },
    {
      "cell_type": "markdown",
      "id": "7311d68f",
      "metadata": {
        "id": "7311d68f"
      },
      "source": [
        "#### 19) All available? Loop & conditional to set `all_available` to `True` only if every book is available. Print the result."
      ]
    },
    {
      "cell_type": "markdown",
      "id": "78b8868f",
      "metadata": {
        "id": "78b8868f"
      },
      "source": [
        "**Solution:**"
      ]
    },
    {
      "cell_type": "code",
      "execution_count": 34,
      "id": "d7ffd560",
      "metadata": {
        "id": "d7ffd560",
        "colab": {
          "base_uri": "https://localhost:8080/"
        },
        "outputId": "e676989b-6335-4cf5-d229-2f88f901903e"
      },
      "outputs": [
        {
          "output_type": "stream",
          "name": "stdout",
          "text": [
            "False\n"
          ]
        }
      ],
      "source": [
        "# your code here\n",
        "all_available = True\n",
        "for book in available:\n",
        "    if not book:\n",
        "        all_available = False\n",
        "        break\n",
        "print(all_available)\n"
      ]
    },
    {
      "cell_type": "markdown",
      "id": "3aa517cd",
      "metadata": {
        "id": "3aa517cd"
      },
      "source": [
        "#### 20) Basic filter with loop. Create `checked_out_titles` containing only titles that are checked out (`available[i] == False`)."
      ]
    },
    {
      "cell_type": "markdown",
      "id": "4ba3eb42",
      "metadata": {
        "id": "4ba3eb42"
      },
      "source": [
        "**Solution:**"
      ]
    },
    {
      "cell_type": "code",
      "execution_count": 33,
      "id": "d2d247d4",
      "metadata": {
        "id": "d2d247d4",
        "colab": {
          "base_uri": "https://localhost:8080/"
        },
        "outputId": "b8c7ed78-be38-4a5e-db84-8522ac8ee9b0"
      },
      "outputs": [
        {
          "output_type": "stream",
          "name": "stdout",
          "text": [
            "['AI Basics', 'UX Design']\n"
          ]
        }
      ],
      "source": [
        "# your code here\n",
        "available = [True, True, False, True, False, True] # Redefine available list to match titles length\n",
        "checked_out_titles = []\n",
        "for i in range(len(titles)):\n",
        "    if not available[i]:\n",
        "        checked_out_titles.append(titles[i])\n",
        "print(checked_out_titles)"
      ]
    },
    {
      "cell_type": "markdown",
      "id": "e2e37448",
      "metadata": {
        "id": "e2e37448"
      },
      "source": [
        "#### 21) Cap loans at 3. Increase `loan_counts[i]` by 1 for each member whose count is `< 3`."
      ]
    },
    {
      "cell_type": "markdown",
      "id": "302ee213",
      "metadata": {
        "id": "302ee213"
      },
      "source": [
        "**Solution:**"
      ]
    },
    {
      "cell_type": "code",
      "execution_count": 31,
      "id": "4c2a7b3b",
      "metadata": {
        "id": "4c2a7b3b",
        "colab": {
          "base_uri": "https://localhost:8080/"
        },
        "outputId": "b5a92358-b550-4fd6-c4aa-b94e730e80e7"
      },
      "outputs": [
        {
          "output_type": "stream",
          "name": "stdout",
          "text": [
            "[3, 1, 3, 2, 4]\n"
          ]
        }
      ],
      "source": [
        "# your code here\n",
        "for i in range(len(loan_counts)):\n",
        "    if loan_counts[i] < 3:\n",
        "        loan_counts[i] += 1\n",
        "print(loan_counts)\n"
      ]
    },
    {
      "cell_type": "markdown",
      "id": "cb062f92",
      "metadata": {
        "id": "cb062f92"
      },
      "source": [
        "#### 22) Simple string parsing. Given `call_number = \"QA76.73.P98\"`, print just the prefix before the first digit (here: `\"QA\"`)."
      ]
    },
    {
      "cell_type": "markdown",
      "id": "75be728d",
      "metadata": {
        "id": "75be728d"
      },
      "source": [
        "**Solution:**"
      ]
    },
    {
      "cell_type": "code",
      "execution_count": 30,
      "id": "1c664316",
      "metadata": {
        "id": "1c664316",
        "colab": {
          "base_uri": "https://localhost:8080/"
        },
        "outputId": "76c137db-3274-4e68-c27c-66ebaeaf5b18"
      },
      "outputs": [
        {
          "output_type": "stream",
          "name": "stdout",
          "text": [
            "QA76\n"
          ]
        }
      ],
      "source": [
        "# your code here\n",
        "call_number = \"QA76.73.P98\"\n",
        "print(call_number.split(\".\")[0])\n"
      ]
    },
    {
      "cell_type": "markdown",
      "id": "99ddcab7",
      "metadata": {
        "id": "99ddcab7"
      },
      "source": [
        "#### 23) Enforce title casing (manual). From `raw_title = \"python for DATA\"`, construct `fixed` so the first char is uppercase and the rest lowercase."
      ]
    },
    {
      "cell_type": "markdown",
      "id": "70da54de",
      "metadata": {
        "id": "70da54de"
      },
      "source": [
        "**Solution:**"
      ]
    },
    {
      "cell_type": "code",
      "execution_count": 29,
      "id": "9238f669",
      "metadata": {
        "id": "9238f669",
        "colab": {
          "base_uri": "https://localhost:8080/"
        },
        "outputId": "8fa54359-1476-44a1-da51-cecda634a323"
      },
      "outputs": [
        {
          "output_type": "stream",
          "name": "stdout",
          "text": [
            "Python for data\n"
          ]
        }
      ],
      "source": [
        "# your code here\n",
        "raw_title = \"python for DATA\"\n",
        "fixed = raw_title[0].upper() + raw_title[1:].lower()\n",
        "print(fixed)\n"
      ]
    },
    {
      "cell_type": "markdown",
      "id": "b440d551",
      "metadata": {
        "id": "b440d551"
      },
      "source": [
        "#### 24) Eligibility mapping without functions. For each value in `loan_counts`, print `True` if it is `< 3` else `False` (use a loop)."
      ]
    },
    {
      "cell_type": "markdown",
      "id": "a635228c",
      "metadata": {
        "id": "a635228c"
      },
      "source": [
        "**Solution:**"
      ]
    },
    {
      "cell_type": "code",
      "execution_count": 28,
      "id": "77c48815",
      "metadata": {
        "id": "77c48815",
        "colab": {
          "base_uri": "https://localhost:8080/"
        },
        "outputId": "65e06951-c7a7-4163-d012-1baa4b36aca4"
      },
      "outputs": [
        {
          "output_type": "stream",
          "name": "stdout",
          "text": [
            "True\n",
            "True\n",
            "False\n",
            "True\n",
            "False\n"
          ]
        }
      ],
      "source": [
        "# your code here\n",
        "for count in loan_counts:\n",
        "    print(count < 3)\n"
      ]
    },
    {
      "cell_type": "markdown",
      "id": "c0537d3a",
      "metadata": {
        "id": "c0537d3a"
      },
      "source": [
        "#### 25) First checked-out index (no function). Given `available`, print the index of the first `False`, or `-1` if none."
      ]
    },
    {
      "cell_type": "markdown",
      "id": "f002bdee",
      "metadata": {
        "id": "f002bdee"
      },
      "source": [
        "**Solution:**"
      ]
    },
    {
      "cell_type": "code",
      "execution_count": 27,
      "id": "5f0ded08",
      "metadata": {
        "id": "5f0ded08",
        "colab": {
          "base_uri": "https://localhost:8080/"
        },
        "outputId": "404180a1-5d7f-4c0d-d566-b65937cde929"
      },
      "outputs": [
        {
          "output_type": "stream",
          "name": "stdout",
          "text": [
            "2\n"
          ]
        }
      ],
      "source": [
        "# your code here\n",
        "for i in range(len(available)):\n",
        "    if not available[i]:\n",
        "        print(i)\n",
        "        break\n",
        "else:\n",
        "    print(-1)"
      ]
    },
    {
      "cell_type": "markdown",
      "id": "75d54c43",
      "metadata": {
        "id": "75d54c43"
      },
      "source": [
        "#### 26) Merge two shelves. Given `shelf_a` & `shelf_b`, create `merged` that alternates items from each until one runs out, then appends the rest."
      ]
    },
    {
      "cell_type": "markdown",
      "id": "1f70aa08",
      "metadata": {
        "id": "1f70aa08"
      },
      "source": [
        "**Solution:**"
      ]
    },
    {
      "cell_type": "code",
      "execution_count": 55,
      "id": "54044473",
      "metadata": {
        "id": "54044473",
        "colab": {
          "base_uri": "https://localhost:8080/"
        },
        "outputId": "cd07e4ea-ee31-4853-a0da-693c60e4110c"
      },
      "outputs": [
        {
          "output_type": "stream",
          "name": "stdout",
          "text": [
            "[1, 2, 3, 4, 5, 6, 7, 8, 10]\n"
          ]
        }
      ],
      "source": [
        "# your code here\n",
        "shelf_a = [1, 3, 5, 7]\n",
        "shelf_b = [2, 4, 6, 8, 10]\n",
        "merged = []\n",
        "\n",
        "min_len = min(len(shelf_a), len(shelf_b))\n",
        "for i in range(min_len):\n",
        "    merged.append(shelf_a[i])\n",
        "    merged.append(shelf_b[i])\n",
        "\n",
        "merged.extend(shelf_a[min_len:])\n",
        "merged.extend(shelf_b[min_len:])\n",
        "\n",
        "print(merged)"
      ]
    },
    {
      "cell_type": "markdown",
      "id": "e657b727",
      "metadata": {
        "id": "e657b727"
      },
      "source": [
        "#### 27) Sanity check parallel lists. Verify `len(titles) == len(authors) == len(available)`. If not, print a warning."
      ]
    },
    {
      "cell_type": "markdown",
      "id": "ac6c179e",
      "metadata": {
        "id": "ac6c179e"
      },
      "source": [
        "**Solution:**"
      ]
    },
    {
      "cell_type": "code",
      "execution_count": 25,
      "id": "a8268a81",
      "metadata": {
        "id": "a8268a81",
        "colab": {
          "base_uri": "https://localhost:8080/"
        },
        "outputId": "4b3f9210-a64d-4492-ca9c-1a293d0beaf3"
      },
      "outputs": [
        {
          "output_type": "stream",
          "name": "stdout",
          "text": [
            "Warning: Parallel lists have different lengths\n"
          ]
        }
      ],
      "source": [
        "# your code here\n",
        "if len(titles) != len(authors) or len(titles) != len(available):\n",
        "    print(\"Warning: Parallel lists have different lengths\")\n"
      ]
    },
    {
      "cell_type": "markdown",
      "id": "f34b1e61",
      "metadata": {
        "id": "f34b1e61"
      },
      "source": [
        "#### 28) Most active borrower. Using `loan_counts`, find the index of the largest count (via loop; no `max`), then print the corresponding name."
      ]
    },
    {
      "cell_type": "markdown",
      "id": "903d37c5",
      "metadata": {
        "id": "903d37c5"
      },
      "source": [
        "**Solution:**"
      ]
    },
    {
      "cell_type": "code",
      "execution_count": 24,
      "id": "bd48fcfe",
      "metadata": {
        "id": "bd48fcfe",
        "colab": {
          "base_uri": "https://localhost:8080/"
        },
        "outputId": "56c8f71e-5a0a-4974-9844-ead8d79bec37"
      },
      "outputs": [
        {
          "output_type": "stream",
          "name": "stdout",
          "text": [
            "Eli\n"
          ]
        }
      ],
      "source": [
        "# your code here\n",
        "member_names = [\"Ava\", \"Ben\", \"Cam\", \"Dev\", \"Eli\"]\n",
        "loan_counts = [2, 0, 3, 1, 4]\n",
        "most_active = 0\n",
        "for i in range(len(loan_counts)):\n",
        "    if loan_counts[i] > loan_counts[most_active]:\n",
        "        most_active = i\n",
        "print(member_names[most_active])"
      ]
    },
    {
      "cell_type": "markdown",
      "id": "500b9968",
      "metadata": {
        "id": "500b9968"
      },
      "source": [
        "#### 29) Even/odd shelf labeling. For `positions = [0,1,2,3,4,5]`, print `\"Even shelf\"` for even numbers, `\"Odd shelf\"` for odd."
      ]
    },
    {
      "cell_type": "markdown",
      "id": "331074f2",
      "metadata": {
        "id": "331074f2"
      },
      "source": [
        "**Solution:**"
      ]
    },
    {
      "cell_type": "code",
      "execution_count": 23,
      "id": "c4a57dfa",
      "metadata": {
        "id": "c4a57dfa",
        "colab": {
          "base_uri": "https://localhost:8080/"
        },
        "outputId": "02db52ca-63e6-466c-880b-4313b65c2e2c"
      },
      "outputs": [
        {
          "output_type": "stream",
          "name": "stdout",
          "text": [
            "Even shelf\n",
            "Odd shelf\n",
            "Even shelf\n",
            "Odd shelf\n",
            "Even shelf\n",
            "Odd shelf\n"
          ]
        }
      ],
      "source": [
        "# your code here\n",
        "positions = [0, 1, 2, 3, 4, 5]\n",
        "for position in positions:\n",
        "    if position % 2 == 0:\n",
        "        print(\"Even shelf\")\n",
        "    else:\n",
        "        print(\"Odd shelf\")\n"
      ]
    },
    {
      "cell_type": "markdown",
      "id": "4d60019e",
      "metadata": {
        "id": "4d60019e"
      },
      "source": [
        "#### 30) Basic menu loop (while + if/elif/else, no functions). Simulate choices: print titles, then available-only, then quit."
      ]
    },
    {
      "cell_type": "markdown",
      "id": "d68fab27",
      "metadata": {
        "id": "d68fab27"
      },
      "source": [
        "**Solution:**"
      ]
    },
    {
      "cell_type": "code",
      "execution_count": 54,
      "id": "809c49fe",
      "metadata": {
        "id": "809c49fe",
        "colab": {
          "base_uri": "https://localhost:8080/",
          "height": 1000
        },
        "outputId": "d7f8ad0a-3a6b-4483-c758-ce46aa2b6c8f"
      },
      "outputs": [
        {
          "output_type": "stream",
          "name": "stdout",
          "text": [
            "\n",
            "Library Menu:\n",
            "1. View all titles\n",
            "2. View available titles\n",
            "3. Quit\n",
            "Enter your choice: 2\n",
            "\n",
            "Available Titles:\n",
            "Python 101\n",
            "Data Wrangling\n",
            "Networks\n",
            "\n",
            "Library Menu:\n",
            "1. View all titles\n",
            "2. View available titles\n",
            "3. Quit\n",
            "Enter your choice: view available titles\n",
            "Invalid choice. Please try again.\n",
            "\n",
            "Library Menu:\n",
            "1. View all titles\n",
            "2. View available titles\n",
            "3. Quit\n",
            "Enter your choice: 1.\n",
            "Invalid choice. Please try again.\n",
            "\n",
            "Library Menu:\n",
            "1. View all titles\n",
            "2. View available titles\n",
            "3. Quit\n",
            "Enter your choice: view all titles\n",
            "Invalid choice. Please try again.\n",
            "\n",
            "Library Menu:\n",
            "1. View all titles\n",
            "2. View available titles\n",
            "3. Quit\n",
            "Enter your choice: quit\n",
            "Invalid choice. Please try again.\n",
            "\n",
            "Library Menu:\n",
            "1. View all titles\n",
            "2. View available titles\n",
            "3. Quit\n",
            "Enter your choice: quit\n",
            "Invalid choice. Please try again.\n",
            "\n",
            "Library Menu:\n",
            "1. View all titles\n",
            "2. View available titles\n",
            "3. Quit\n",
            "Enter your choice: Quit\n",
            "Invalid choice. Please try again.\n",
            "\n",
            "Library Menu:\n",
            "1. View all titles\n",
            "2. View available titles\n",
            "3. Quit\n"
          ]
        },
        {
          "output_type": "error",
          "ename": "KeyboardInterrupt",
          "evalue": "Interrupted by user",
          "traceback": [
            "\u001b[0;31m---------------------------------------------------------------------------\u001b[0m",
            "\u001b[0;31mKeyboardInterrupt\u001b[0m                         Traceback (most recent call last)",
            "\u001b[0;32m/tmp/ipython-input-1549838164.py\u001b[0m in \u001b[0;36m<cell line: 0>\u001b[0;34m()\u001b[0m\n\u001b[1;32m      5\u001b[0m     \u001b[0mprint\u001b[0m\u001b[0;34m(\u001b[0m\u001b[0;34m\"2. View available titles\"\u001b[0m\u001b[0;34m)\u001b[0m\u001b[0;34m\u001b[0m\u001b[0;34m\u001b[0m\u001b[0m\n\u001b[1;32m      6\u001b[0m     \u001b[0mprint\u001b[0m\u001b[0;34m(\u001b[0m\u001b[0;34m\"3. Quit\"\u001b[0m\u001b[0;34m)\u001b[0m\u001b[0;34m\u001b[0m\u001b[0;34m\u001b[0m\u001b[0m\n\u001b[0;32m----> 7\u001b[0;31m     \u001b[0mchoice\u001b[0m \u001b[0;34m=\u001b[0m \u001b[0minput\u001b[0m\u001b[0;34m(\u001b[0m\u001b[0;34m\"Enter your choice: \"\u001b[0m\u001b[0;34m)\u001b[0m\u001b[0;34m\u001b[0m\u001b[0;34m\u001b[0m\u001b[0m\n\u001b[0m\u001b[1;32m      8\u001b[0m \u001b[0;34m\u001b[0m\u001b[0m\n\u001b[1;32m      9\u001b[0m     \u001b[0;32mif\u001b[0m \u001b[0mchoice\u001b[0m \u001b[0;34m==\u001b[0m \u001b[0;34m'1'\u001b[0m\u001b[0;34m:\u001b[0m\u001b[0;34m\u001b[0m\u001b[0;34m\u001b[0m\u001b[0m\n",
            "\u001b[0;32m/usr/local/lib/python3.12/dist-packages/ipykernel/kernelbase.py\u001b[0m in \u001b[0;36mraw_input\u001b[0;34m(self, prompt)\u001b[0m\n\u001b[1;32m   1175\u001b[0m                 \u001b[0;34m\"raw_input was called, but this frontend does not support input requests.\"\u001b[0m\u001b[0;34m\u001b[0m\u001b[0;34m\u001b[0m\u001b[0m\n\u001b[1;32m   1176\u001b[0m             )\n\u001b[0;32m-> 1177\u001b[0;31m         return self._input_request(\n\u001b[0m\u001b[1;32m   1178\u001b[0m             \u001b[0mstr\u001b[0m\u001b[0;34m(\u001b[0m\u001b[0mprompt\u001b[0m\u001b[0;34m)\u001b[0m\u001b[0;34m,\u001b[0m\u001b[0;34m\u001b[0m\u001b[0;34m\u001b[0m\u001b[0m\n\u001b[1;32m   1179\u001b[0m             \u001b[0mself\u001b[0m\u001b[0;34m.\u001b[0m\u001b[0m_parent_ident\u001b[0m\u001b[0;34m[\u001b[0m\u001b[0;34m\"shell\"\u001b[0m\u001b[0;34m]\u001b[0m\u001b[0;34m,\u001b[0m\u001b[0;34m\u001b[0m\u001b[0;34m\u001b[0m\u001b[0m\n",
            "\u001b[0;32m/usr/local/lib/python3.12/dist-packages/ipykernel/kernelbase.py\u001b[0m in \u001b[0;36m_input_request\u001b[0;34m(self, prompt, ident, parent, password)\u001b[0m\n\u001b[1;32m   1217\u001b[0m             \u001b[0;32mexcept\u001b[0m \u001b[0mKeyboardInterrupt\u001b[0m\u001b[0;34m:\u001b[0m\u001b[0;34m\u001b[0m\u001b[0;34m\u001b[0m\u001b[0m\n\u001b[1;32m   1218\u001b[0m                 \u001b[0;31m# re-raise KeyboardInterrupt, to truncate traceback\u001b[0m\u001b[0;34m\u001b[0m\u001b[0;34m\u001b[0m\u001b[0m\n\u001b[0;32m-> 1219\u001b[0;31m                 \u001b[0;32mraise\u001b[0m \u001b[0mKeyboardInterrupt\u001b[0m\u001b[0;34m(\u001b[0m\u001b[0;34m\"Interrupted by user\"\u001b[0m\u001b[0;34m)\u001b[0m \u001b[0;32mfrom\u001b[0m \u001b[0;32mNone\u001b[0m\u001b[0;34m\u001b[0m\u001b[0;34m\u001b[0m\u001b[0m\n\u001b[0m\u001b[1;32m   1220\u001b[0m             \u001b[0;32mexcept\u001b[0m \u001b[0mException\u001b[0m\u001b[0;34m:\u001b[0m\u001b[0;34m\u001b[0m\u001b[0;34m\u001b[0m\u001b[0m\n\u001b[1;32m   1221\u001b[0m                 \u001b[0mself\u001b[0m\u001b[0;34m.\u001b[0m\u001b[0mlog\u001b[0m\u001b[0;34m.\u001b[0m\u001b[0mwarning\u001b[0m\u001b[0;34m(\u001b[0m\u001b[0;34m\"Invalid Message:\"\u001b[0m\u001b[0;34m,\u001b[0m \u001b[0mexc_info\u001b[0m\u001b[0;34m=\u001b[0m\u001b[0;32mTrue\u001b[0m\u001b[0;34m)\u001b[0m\u001b[0;34m\u001b[0m\u001b[0;34m\u001b[0m\u001b[0m\n",
            "\u001b[0;31mKeyboardInterrupt\u001b[0m: Interrupted by user"
          ]
        }
      ],
      "source": [
        "# your code here\n",
        "while True:\n",
        "    print(\"\\nLibrary Menu:\")\n",
        "    print(\"1. View all titles\")\n",
        "    print(\"2. View available titles\")\n",
        "    print(\"3. Quit\")\n",
        "    choice = input(\"Enter your choice: \")\n",
        "\n",
        "    if choice == '1':\n",
        "        print(\"\\nAll Titles:\")\n",
        "        for title in titles:\n",
        "            print(title)\n",
        "    elif choice == '2':\n",
        "        print(\"\\nAvailable Titles:\")\n",
        "        for i in range(len(titles)):\n",
        "            if available[i]:\n",
        "                print(titles[i])\n",
        "    elif choice == '3':\n",
        "        print(\"Exiting menu.\")\n",
        "        break\n",
        "    else:\n",
        "        print(\"Invalid choice. Please try again.\")"
      ]
    }
  ],
  "metadata": {
    "colab": {
      "provenance": []
    },
    "language_info": {
      "name": "python"
    },
    "kernelspec": {
      "name": "python3",
      "display_name": "Python 3"
    }
  },
  "nbformat": 4,
  "nbformat_minor": 5
}