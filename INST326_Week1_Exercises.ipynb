{
  "cells": [
    {
      "cell_type": "markdown",
      "metadata": {
        "id": "view-in-github",
        "colab_type": "text"
      },
      "source": [
        "<a href=\"https://colab.research.google.com/github/Jglo34/INST326-jglo34/blob/main/INST326_Week1_Exercises.ipynb\" target=\"_parent\"><img src=\"https://colab.research.google.com/assets/colab-badge.svg\" alt=\"Open In Colab\"/></a>"
      ]
    },
    {
      "cell_type": "markdown",
      "id": "87469d1d",
      "metadata": {
        "id": "87469d1d"
      },
      "source": [
        "# INST326 — Week 1 Exercises (Revised): Library Management Theme  \n",
        "*Generated on 2025-09-07*\n",
        "\n",
        "This revision **removes all conditionals and all lists** to align strictly with Week 1 topics.\n",
        "\n",
        "**Included topics**\n",
        "- Variables and basic data types (`str`, `int`, `float`, `bool`)\n",
        "- Basic arithmetic and expressions\n",
        "- `print()` and formatted strings (f-strings, `.format`)\n",
        "- `input()` for user input\n",
        "- String methods: `.strip()`, `.lower()`, `.upper()`, `.replace()`, `.find()`, `.rfind()`, slicing\n",
        "- Type conversion with `int()`, `float()`, `str()`\n",
        "- Boolean expressions (compute and print `True/False`) **without branching**\n",
        "\n",
        "**Excluded topics**\n",
        "- Conditionals (`if`, `elif`, `else`), ternary expressions\n",
        "- Lists (and methods like `.split()` which returns a list)\n",
        "- Loops, dictionaries, files, functions, modules, classes\n",
        "\n",
        "Each exercise includes a short description and a starter cell. Replace the `# Your code here` section with your work.\n"
      ]
    },
    {
      "cell_type": "markdown",
      "id": "187fead2",
      "metadata": {
        "id": "187fead2"
      },
      "source": [
        "## Exercise 1: Book Identity Card"
      ]
    },
    {
      "cell_type": "code",
      "execution_count": null,
      "id": "f7166927",
      "metadata": {
        "id": "f7166927"
      },
      "outputs": [],
      "source": []
    },
    {
      "cell_type": "markdown",
      "id": "b25625ac",
      "metadata": {
        "id": "b25625ac"
      },
      "source": [
        "Create variables `title` (str), `author` (str), `year_published` (int), and `isbn` (str).  \n",
        "Print: `\"The Hobbit (1937) by J.R.R. Tolkien — ISBN: 9780261103344\"` using an f-string."
      ]
    },
    {
      "cell_type": "code",
      "execution_count": null,
      "id": "f126cbad",
      "metadata": {
        "id": "f126cbad",
        "colab": {
          "base_uri": "https://localhost:8080/"
        },
        "outputId": "50d60d09-eea8-4c58-e4d8-f42400008b99"
      },
      "outputs": [
        {
          "output_type": "stream",
          "name": "stdout",
          "text": [
            "The Hobbit 1937 by J.R.R. Tolkien - ISBN: 9780261103344\n"
          ]
        }
      ],
      "source": [
        "title = \"The Hobbit\"\n",
        "author = \"J.R.R. Tolkien\"\n",
        "year_published = 1937\n",
        "isbn = 9780261103344\n",
        "\n",
        "print(f\"{title} {year_published} by {author} - ISBN: {isbn}\")\n"
      ]
    },
    {
      "cell_type": "markdown",
      "id": "a0733490",
      "metadata": {
        "id": "a0733490"
      },
      "source": [
        "## Exercise 2: New Copies on Order"
      ]
    },
    {
      "cell_type": "markdown",
      "id": "6df49a1d",
      "metadata": {
        "id": "6df49a1d"
      },
      "source": [
        "Given integers `current_copies` and `incoming_copies`, compute `total_copies` and print a message like `\"Total copies after delivery: 27\"`."
      ]
    },
    {
      "cell_type": "code",
      "execution_count": null,
      "id": "69884352",
      "metadata": {
        "id": "69884352",
        "colab": {
          "base_uri": "https://localhost:8080/"
        },
        "outputId": "db348213-8dff-464a-9f23-2ebab0edfe77"
      },
      "outputs": [
        {
          "output_type": "stream",
          "name": "stdout",
          "text": [
            "Total copies after delivery: 27\n"
          ]
        }
      ],
      "source": [
        "current_copies = 10\n",
        "incoming_copies = 17\n",
        "\n",
        "total_copies = current_copies + incoming_copies\n",
        "\n",
        "print(f\"Total copies after delivery: {total_copies}\")"
      ]
    },
    {
      "cell_type": "markdown",
      "id": "7bae0bc7",
      "metadata": {
        "id": "7bae0bc7"
      },
      "source": [
        "## Exercise 3: Availability Flag (No Branching)"
      ]
    },
    {
      "cell_type": "markdown",
      "id": "56a12c8e",
      "metadata": {
        "id": "56a12c8e"
      },
      "source": [
        "Create `is_available` that is `True` when `current_copies > 0`. Print the boolean value."
      ]
    },
    {
      "cell_type": "code",
      "execution_count": null,
      "id": "e3d095dc",
      "metadata": {
        "id": "e3d095dc",
        "colab": {
          "base_uri": "https://localhost:8080/"
        },
        "outputId": "2078c4a5-2c91-4a4b-dc50-6863476c1507"
      },
      "outputs": [
        {
          "output_type": "stream",
          "name": "stdout",
          "text": [
            "True\n"
          ]
        }
      ],
      "source": [
        "current_copies = 10  # Define current_copies within this cell\n",
        "is_available = current_copies > 0\n",
        "print(is_available)"
      ]
    },
    {
      "cell_type": "markdown",
      "id": "1b201215",
      "metadata": {
        "id": "1b201215"
      },
      "source": [
        "## Exercise 4: Formatting a Call Number"
      ]
    },
    {
      "cell_type": "markdown",
      "id": "200dd704",
      "metadata": {
        "id": "200dd704"
      },
      "source": [
        "Given `prefix = \"QA\"`, `section = \"76\"`, `cutter = \"P98\"`, combine into `\"QA.76.P98\"` and print the result."
      ]
    },
    {
      "cell_type": "code",
      "execution_count": null,
      "id": "95e0afa1",
      "metadata": {
        "id": "95e0afa1",
        "colab": {
          "base_uri": "https://localhost:8080/"
        },
        "outputId": "871d0a32-0de6-413e-917c-7ea147fc68a1"
      },
      "outputs": [
        {
          "output_type": "stream",
          "name": "stdout",
          "text": [
            "QA.76.P98\n"
          ]
        }
      ],
      "source": [
        "prefix = \"QA\"\n",
        "section = \"76\"\n",
        "cutter = \"P98\"\n",
        "\n",
        "print(f\"{prefix}.{section}.{cutter}\")"
      ]
    },
    {
      "cell_type": "markdown",
      "id": "08a3762a",
      "metadata": {
        "id": "08a3762a"
      },
      "source": [
        "Ask for a book title. Use `.strip()` to remove leading/trailing spaces and print the cleaned title in quotes."
      ]
    },
    {
      "cell_type": "markdown",
      "id": "b029eff8",
      "metadata": {
        "id": "b029eff8"
      },
      "source": [
        "## Exercise 5: Trim a Title"
      ]
    },
    {
      "cell_type": "code",
      "execution_count": null,
      "id": "6f929817",
      "metadata": {
        "id": "6f929817",
        "colab": {
          "base_uri": "https://localhost:8080/"
        },
        "outputId": "b91a4370-85e9-446b-cec4-498ecca0192a"
      },
      "outputs": [
        {
          "output_type": "stream",
          "name": "stdout",
          "text": [
            "'The 48 Laws of Power'\n"
          ]
        }
      ],
      "source": [
        "title = \"   The 48 Laws of Power  \"\n",
        "trimmed = title.strip( )\n",
        "\n",
        "print(f\"'{trimmed}'\")"
      ]
    },
    {
      "cell_type": "markdown",
      "id": "18d175e7",
      "metadata": {
        "id": "18d175e7"
      },
      "source": [
        "## Exercise 6: Late Fee (Arithmetic Only)"
      ]
    },
    {
      "cell_type": "markdown",
      "id": "e0e17128",
      "metadata": {
        "id": "e0e17128"
      },
      "source": [
        "Ask for days late (integer). Compute the fee at `$0.25` per day, **but never negative**. Use arithmetic (e.g., `max_days = (days + abs(days)) // 2`) or `max()` to ensure non‑negative days. Print `\"Late fee: $X.XX\"`."
      ]
    },
    {
      "cell_type": "code",
      "execution_count": null,
      "id": "e8a70269",
      "metadata": {
        "id": "e8a70269",
        "colab": {
          "base_uri": "https://localhost:8080/"
        },
        "outputId": "07cc48da-3fcc-47c4-a751-12ea8b9c580b"
      },
      "outputs": [
        {
          "output_type": "stream",
          "name": "stdout",
          "text": [
            "Late fee: $1.25\n"
          ]
        }
      ],
      "source": [
        "day = 0.25\n",
        "days = 2\n",
        "max_days = (day + abs(days) // 2)\n",
        "\n",
        "print(f\"Late fee: ${max_days}\")"
      ]
    },
    {
      "cell_type": "markdown",
      "id": "4fc21786",
      "metadata": {
        "id": "4fc21786"
      },
      "source": [
        "## Exercise 7: Title Length Counter"
      ]
    },
    {
      "cell_type": "code",
      "execution_count": null,
      "id": "75ebc706",
      "metadata": {
        "id": "75ebc706"
      },
      "outputs": [],
      "source": []
    },
    {
      "cell_type": "markdown",
      "id": "25c2ffee",
      "metadata": {
        "id": "25c2ffee"
      },
      "source": [
        "Given a `title` string, compute the number of characters and print `\"Title length: N\"`."
      ]
    },
    {
      "cell_type": "code",
      "execution_count": null,
      "id": "9e4a68b7",
      "metadata": {
        "id": "9e4a68b7",
        "colab": {
          "base_uri": "https://localhost:8080/"
        },
        "outputId": "a586bf0c-e34a-4661-f043-dd67155af692"
      },
      "outputs": [
        {
          "output_type": "stream",
          "name": "stdout",
          "text": [
            "Title length: 7\n"
          ]
        }
      ],
      "source": [
        "title = \"INST326\"\n",
        "title_length = len(title)\n",
        "\n",
        "print(f\"Title length: {title_length}\")\n"
      ]
    },
    {
      "cell_type": "markdown",
      "id": "5a1cdcc8",
      "metadata": {
        "id": "5a1cdcc8"
      },
      "source": [
        "## Exercise 8: Case-Insensitive Match (Boolean Only)"
      ]
    },
    {
      "cell_type": "markdown",
      "id": "034ccb76",
      "metadata": {
        "id": "034ccb76"
      },
      "source": [
        "Let `query = \"dune\"` and `title = \"Dune\"`. Compute a boolean `matches` that is `True` when they match ignoring case. Print `matches`."
      ]
    },
    {
      "cell_type": "code",
      "execution_count": null,
      "id": "854f8532",
      "metadata": {
        "id": "854f8532",
        "colab": {
          "base_uri": "https://localhost:8080/"
        },
        "outputId": "e2f46092-b9a5-4911-a093-770eec253d0a"
      },
      "outputs": [
        {
          "output_type": "stream",
          "name": "stdout",
          "text": [
            "False\n"
          ]
        }
      ],
      "source": [
        "query = \"dune\"\n",
        "title = \"Dune\"\n",
        "\n",
        "matches = (query.lower == title.lower)\n",
        "\n",
        "print(matches)"
      ]
    },
    {
      "cell_type": "markdown",
      "id": "b4e14459",
      "metadata": {
        "id": "b4e14459"
      },
      "source": [
        "## Exercise 9: Year Text to Int"
      ]
    },
    {
      "cell_type": "markdown",
      "id": "5a746f70",
      "metadata": {
        "id": "5a746f70"
      },
      "source": [
        "Start with `year_text = \"2001\"`. Convert to int, add 1 to get the next reprint year, then print both values in one sentence."
      ]
    },
    {
      "cell_type": "code",
      "execution_count": null,
      "id": "e6ec1ced",
      "metadata": {
        "id": "e6ec1ced",
        "colab": {
          "base_uri": "https://localhost:8080/"
        },
        "outputId": "5e2b2377-0633-47aa-f375-4aa156d4ef05"
      },
      "outputs": [
        {
          "output_type": "stream",
          "name": "stdout",
          "text": [
            "2002\n"
          ]
        }
      ],
      "source": [
        "year_text = \"2001\"\n",
        "year = int(year_text)\n",
        "\n",
        "print(year + 1)"
      ]
    },
    {
      "cell_type": "markdown",
      "id": "711448b9",
      "metadata": {
        "id": "711448b9"
      },
      "source": [
        "## Exercise 10: Shelf Label Alignment"
      ]
    },
    {
      "cell_type": "markdown",
      "id": "07ff4594",
      "metadata": {
        "id": "07ff4594"
      },
      "source": [
        "Given `title` and `author`, print a fixed‑width label so titles align. Example: `Title: {title:30}  Author: {author:20}`."
      ]
    },
    {
      "cell_type": "code",
      "execution_count": null,
      "id": "bb477dae",
      "metadata": {
        "id": "bb477dae",
        "colab": {
          "base_uri": "https://localhost:8080/"
        },
        "outputId": "6bb9edfc-85a3-470b-a506-b76847d74c78"
      },
      "outputs": [
        {
          "output_type": "stream",
          "name": "stdout",
          "text": [
            "Title: atomic habits                  Author: james clear         \n"
          ]
        }
      ],
      "source": [
        "# Your code here\n",
        "title = \"atomic habits\"\n",
        "author = \"james clear\"\n",
        "\n",
        "print(f\"Title: {title:30} Author: {author:20}\")"
      ]
    },
    {
      "cell_type": "markdown",
      "id": "98b11882",
      "metadata": {
        "id": "98b11882"
      },
      "source": [
        "## Exercise 11: Basic Price Math"
      ]
    },
    {
      "cell_type": "markdown",
      "id": "2e038133",
      "metadata": {
        "id": "2e038133"
      },
      "source": [
        "A book costs `$12.50`. A student discount of `$2.00` applies. Compute and print the final price with two decimals."
      ]
    },
    {
      "cell_type": "code",
      "execution_count": null,
      "id": "55ad2d9c",
      "metadata": {
        "id": "55ad2d9c",
        "colab": {
          "base_uri": "https://localhost:8080/"
        },
        "outputId": "5028fbe8-39e0-4dd2-b133-4eb3528dd7bd"
      },
      "outputs": [
        {
          "output_type": "stream",
          "name": "stdout",
          "text": [
            "Total: $10.50\n"
          ]
        }
      ],
      "source": [
        "book  = 12.50\n",
        "discount = 2.00\n",
        "\n",
        "final = (book - discount)\n",
        "\n",
        "print (f\"Total: ${final:.2f}\")"
      ]
    },
    {
      "cell_type": "markdown",
      "id": "f976700b",
      "metadata": {
        "id": "f976700b"
      },
      "source": [
        "## Exercise 12: ISBN Normalizer"
      ]
    },
    {
      "cell_type": "markdown",
      "id": "0e1112c1",
      "metadata": {
        "id": "0e1112c1"
      },
      "source": [
        "Given `isbn_raw = \" 978-0-261-10334-4 \"`, strip whitespace and remove dashes to get `\"9780261103344\"`."
      ]
    },
    {
      "cell_type": "code",
      "execution_count": null,
      "id": "6b8bc837",
      "metadata": {
        "id": "6b8bc837",
        "colab": {
          "base_uri": "https://localhost:8080/"
        },
        "outputId": "b91dcd3b-d9a1-407b-b4ff-a1863975c798"
      },
      "outputs": [
        {
          "output_type": "stream",
          "name": "stdout",
          "text": [
            "9780261103344\n"
          ]
        }
      ],
      "source": [
        "isbn_raw = \" 978-0-261-10334-4 \"\n",
        "normal = isbn_raw.strip().replace(\"-\",\"\")\n",
        "\n",
        "print(normal)\n"
      ]
    },
    {
      "cell_type": "markdown",
      "id": "c3919be0",
      "metadata": {
        "id": "c3919be0"
      },
      "source": [
        "## Exercise 13: Branch Code Normalization"
      ]
    },
    {
      "cell_type": "markdown",
      "id": "e4a18d87",
      "metadata": {
        "id": "e4a18d87"
      },
      "source": [
        "Given `home_branch = \"  umd  \"`, normalize by stripping spaces and uppercasing. Print the normalized code."
      ]
    },
    {
      "cell_type": "code",
      "execution_count": null,
      "id": "38e13766",
      "metadata": {
        "id": "38e13766",
        "colab": {
          "base_uri": "https://localhost:8080/"
        },
        "outputId": "44b3f826-9fa5-4037-ae05-6457f39e83f6"
      },
      "outputs": [
        {
          "output_type": "stream",
          "name": "stdout",
          "text": [
            "UMD\n"
          ]
        }
      ],
      "source": [
        "home_branch = \" umd \"\n",
        "normal = home_branch.strip().upper()\n",
        "\n",
        "print(normal)"
      ]
    },
    {
      "cell_type": "markdown",
      "id": "1a32a62a",
      "metadata": {
        "id": "1a32a62a"
      },
      "source": [
        "## Exercise 14: Pages-per-Day (Compute Only)"
      ]
    },
    {
      "cell_type": "markdown",
      "id": "409a1c78",
      "metadata": {
        "id": "409a1c78"
      },
      "source": [
        "Ask for `total_pages` and `days_until_due`. Compute `pages_per_day = total_pages / max(days_until_due, 1)` to avoid division by zero. Print with 1 decimal place."
      ]
    },
    {
      "cell_type": "code",
      "execution_count": null,
      "id": "eaf15bd8",
      "metadata": {
        "id": "eaf15bd8",
        "colab": {
          "base_uri": "https://localhost:8080/"
        },
        "outputId": "9b3da373-f270-4cb8-f578-efe8d0ccd5a2"
      },
      "outputs": [
        {
          "output_type": "stream",
          "name": "stdout",
          "text": [
            "You'll read 67.0 per day\n"
          ]
        }
      ],
      "source": [
        "total_pages = 1340\n",
        "days_until_due = 20\n",
        "\n",
        "pages_per_day = total_pages / max(days_until_due, 1)\n",
        "\n",
        "print(f\"You'll read {pages_per_day:.1f} per day\")"
      ]
    },
    {
      "cell_type": "markdown",
      "id": "cd86b9fd",
      "metadata": {
        "id": "cd86b9fd"
      },
      "source": [
        "## Exercise 15: Call Number Parsing (No Lists)"
      ]
    },
    {
      "cell_type": "markdown",
      "id": "1fc37465",
      "metadata": {
        "id": "1fc37465"
      },
      "source": [
        "Given `call_no = \"QA.76.P98\"`, extract `prefix`, `section`, and `cutter` using `.find()`/`.rfind()` and string slicing only (no `.split()`). Print them in one line."
      ]
    },
    {
      "cell_type": "code",
      "execution_count": null,
      "id": "fe05f0c4",
      "metadata": {
        "id": "fe05f0c4",
        "colab": {
          "base_uri": "https://localhost:8080/"
        },
        "outputId": "1f48de09-d1d1-46f7-e9da-b9fbcad6baff"
      },
      "outputs": [
        {
          "output_type": "stream",
          "name": "stdout",
          "text": [
            "QA 76 P98\n"
          ]
        }
      ],
      "source": [
        "call_no = \"QA.76.P98\"\n",
        "\n",
        "first_dot = call_no.find('.')\n",
        "last_dot = call_no.rfind('.')\n",
        "\n",
        "prefix =  call_no[:first_dot]\n",
        "section = call_no[first_dot + 1:last_dot]\n",
        "cutter = call_no[last_dot +1:]\n",
        "\n",
        "print(prefix, section, cutter)\n"
      ]
    },
    {
      "cell_type": "markdown",
      "id": "027c50f7",
      "metadata": {
        "id": "027c50f7"
      },
      "source": [
        "## Exercise 16: Basic Type Introspection"
      ]
    },
    {
      "cell_type": "markdown",
      "id": "da5ad370",
      "metadata": {
        "id": "da5ad370"
      },
      "source": [
        "Create variables `n = 10`, `price = 9.99`, `title = \"Dune\"`, `available = True`. Print each value and its type using `type()`."
      ]
    },
    {
      "cell_type": "code",
      "execution_count": null,
      "id": "eb0a0c2d",
      "metadata": {
        "id": "eb0a0c2d",
        "colab": {
          "base_uri": "https://localhost:8080/"
        },
        "outputId": "eea439b0-cec8-4c9d-8c87-44ca19260557"
      },
      "outputs": [
        {
          "output_type": "stream",
          "name": "stdout",
          "text": [
            "<class 'int'>\n",
            "<class 'float'>\n",
            "<class 'str'>\n"
          ]
        }
      ],
      "source": [
        "n = 10\n",
        "price = 9.99\n",
        "title = \"Dune\"\n",
        "available = True\n",
        "\n",
        "print(type(n))\n",
        "print(type(price))\n",
        "print(type(title))\n"
      ]
    },
    {
      "cell_type": "markdown",
      "id": "5596706f",
      "metadata": {
        "id": "5596706f"
      },
      "source": [
        "## Exercise 17: Concatenate Author Name"
      ]
    },
    {
      "cell_type": "markdown",
      "id": "7867d77d",
      "metadata": {
        "id": "7867d77d"
      },
      "source": [
        "Given `first = \"Octavia\"` and `last = \"Butler\"`, create `author_full = \"Octavia Butler\"` and print it."
      ]
    },
    {
      "cell_type": "code",
      "execution_count": null,
      "id": "71101e4a",
      "metadata": {
        "id": "71101e4a",
        "colab": {
          "base_uri": "https://localhost:8080/"
        },
        "outputId": "5943aef9-31ba-402d-de7c-fd208fa571c9"
      },
      "outputs": [
        {
          "output_type": "stream",
          "name": "stdout",
          "text": [
            "Octavia Butler\n"
          ]
        }
      ],
      "source": [
        "first = \"Octavia\"\n",
        "last = \"Butler\"\n",
        "\n",
        "author_full = \"Octavia Butler\"\n",
        "\n",
        "print(author_full)"
      ]
    },
    {
      "cell_type": "markdown",
      "id": "06f9f678",
      "metadata": {
        "id": "06f9f678"
      },
      "source": [
        "## Exercise 18: Edition Equality (Boolean Only)"
      ]
    },
    {
      "cell_type": "markdown",
      "id": "a6cf3cd4",
      "metadata": {
        "id": "a6cf3cd4"
      },
      "source": [
        "Let `edition_text = \"2\"` and `edition_num = 2`. Compute `same = int(edition_text) == edition_num` and print `same`."
      ]
    },
    {
      "cell_type": "code",
      "execution_count": null,
      "id": "1946e8bf",
      "metadata": {
        "id": "1946e8bf",
        "colab": {
          "base_uri": "https://localhost:8080/"
        },
        "outputId": "cd092795-9ea6-4936-be43-98aad428965a"
      },
      "outputs": [
        {
          "output_type": "stream",
          "name": "stdout",
          "text": [
            "True\n"
          ]
        }
      ],
      "source": [
        "edition_text = \"2\"\n",
        "edition_num = 2\n",
        "\n",
        "same = int(edition_text)==edition_num\n",
        "\n",
        "print(same)"
      ]
    },
    {
      "cell_type": "markdown",
      "id": "2b7863a2",
      "metadata": {
        "id": "2b7863a2"
      },
      "source": [
        "## Exercise 19: Copy Count Update (Arithmetic)"
      ]
    },
    {
      "cell_type": "markdown",
      "id": "c0d6de9f",
      "metadata": {
        "id": "c0d6de9f"
      },
      "source": [
        "Start with `copies = 3`. Add a returned copy (`+1`) and subtract a lost copy (`-1`). Print the final count (you may change the increments)."
      ]
    },
    {
      "cell_type": "code",
      "execution_count": null,
      "id": "1178c971",
      "metadata": {
        "id": "1178c971",
        "colab": {
          "base_uri": "https://localhost:8080/"
        },
        "outputId": "ce7256fe-d470-4e59-85dc-f47e252af310"
      },
      "outputs": [
        {
          "output_type": "stream",
          "name": "stdout",
          "text": [
            "The final count is: 10\n"
          ]
        }
      ],
      "source": [
        "copies = 10\n",
        "copies += 1\n",
        "copies -= 1\n",
        "\n",
        "print(\"The final count is:\", copies)\n",
        "\n"
      ]
    },
    {
      "cell_type": "markdown",
      "id": "7399dab7",
      "metadata": {
        "id": "7399dab7"
      },
      "source": [
        "## Exercise 20: Modern Publication (Boolean Only)"
      ]
    },
    {
      "cell_type": "markdown",
      "id": "6d07fd5c",
      "metadata": {
        "id": "6d07fd5c"
      },
      "source": [
        "Ask for a publication year and compute a boolean `modern = (year >= 2000)`. Print `modern`."
      ]
    },
    {
      "cell_type": "code",
      "execution_count": null,
      "id": "775f0de1",
      "metadata": {
        "id": "775f0de1",
        "colab": {
          "base_uri": "https://localhost:8080/"
        },
        "outputId": "4449b533-34d7-43d3-aaba-8adda20d8b1e"
      },
      "outputs": [
        {
          "output_type": "stream",
          "name": "stdout",
          "text": [
            "What is the publication year: 2001\n",
            "Modern: True\n"
          ]
        }
      ],
      "source": [
        "year = int(input(\"What is the publication year: \"))\n",
        "modern = (year >= 2000)\n",
        "\n",
        "print(\"Modern:\", modern)"
      ]
    },
    {
      "cell_type": "markdown",
      "id": "d5b0497b",
      "metadata": {
        "id": "d5b0497b"
      },
      "source": [
        "## Exercise 21: Hold Ready (Boolean Only)"
      ]
    },
    {
      "cell_type": "markdown",
      "id": "d0ca2343",
      "metadata": {
        "id": "d0ca2343"
      },
      "source": [
        "Given `hold_ready = True`, print the boolean and a simple message on a single line without branching, e.g., `True — status recorded`."
      ]
    },
    {
      "cell_type": "code",
      "execution_count": null,
      "id": "64defa34",
      "metadata": {
        "id": "64defa34",
        "colab": {
          "base_uri": "https://localhost:8080/"
        },
        "outputId": "aaea92f9-fbd9-446d-87fd-e215e0b56a71"
      },
      "outputs": [
        {
          "output_type": "stream",
          "name": "stdout",
          "text": [
            "True - status recorded\n"
          ]
        }
      ],
      "source": [
        "hold_ready = True\n",
        "\n",
        "print(hold_ready, \"- status recorded\")\n",
        "\n",
        "\n"
      ]
    },
    {
      "cell_type": "markdown",
      "id": "cbe04c30",
      "metadata": {
        "id": "cbe04c30"
      },
      "source": [
        "## Exercise 22: Replace Substring in Title"
      ]
    },
    {
      "cell_type": "markdown",
      "id": "a75ee147",
      "metadata": {
        "id": "a75ee147"
      },
      "source": [
        "Let `title = \"The Color of Magic\"`. Replace `\"Color\"` with `\"Colour\"` and print the result."
      ]
    },
    {
      "cell_type": "code",
      "execution_count": null,
      "id": "a172a936",
      "metadata": {
        "id": "a172a936",
        "colab": {
          "base_uri": "https://localhost:8080/"
        },
        "outputId": "575bf5f4-8ea5-46d2-8945-589b4d5b961b"
      },
      "outputs": [
        {
          "output_type": "stream",
          "name": "stdout",
          "text": [
            "The Colour of Magic\n"
          ]
        }
      ],
      "source": [
        "title = \"The Color of Magic\"\n",
        "\n",
        "new_title = title.replace(\"Color\", \"Colour\")\n",
        "\n",
        "print(new_title)\n",
        "\n"
      ]
    },
    {
      "cell_type": "markdown",
      "id": "7fda9c32",
      "metadata": {
        "id": "7fda9c32"
      },
      "source": [
        "## Exercise 23: Keyword Present (Boolean Only)"
      ]
    },
    {
      "cell_type": "markdown",
      "id": "6e13428c",
      "metadata": {
        "id": "6e13428c"
      },
      "source": [
        "Given `title = \"The Left Hand of Darkness\"` and `keyword = \"Hand\"`, compute `present = title.find(keyword) != -1` and print `present`."
      ]
    },
    {
      "cell_type": "code",
      "execution_count": null,
      "id": "c88c5e20",
      "metadata": {
        "id": "c88c5e20",
        "colab": {
          "base_uri": "https://localhost:8080/"
        },
        "outputId": "e0b5de97-fef8-4e7b-ee47-3cc07c6d9d0c"
      },
      "outputs": [
        {
          "output_type": "stream",
          "name": "stdout",
          "text": [
            "True\n"
          ]
        }
      ],
      "source": [
        "title = \"The Left Hand of Darkness\"\n",
        "keyword = \"Hand\"\n",
        "\n",
        "present = title.find(keyword) != -1\n",
        "\n",
        "print(present)"
      ]
    },
    {
      "cell_type": "markdown",
      "id": "1b602454",
      "metadata": {
        "id": "1b602454"
      },
      "source": [
        "## Exercise 24: Extract Cutter by Position (No Lists)"
      ]
    },
    {
      "cell_type": "markdown",
      "id": "15f23d51",
      "metadata": {
        "id": "15f23d51"
      },
      "source": [
        "With `call_no = \"QA.76.P98\"`, find the last `'.'` index and slice the cutter part. Print only the cutter."
      ]
    },
    {
      "cell_type": "code",
      "execution_count": null,
      "id": "742321e0",
      "metadata": {
        "id": "742321e0",
        "colab": {
          "base_uri": "https://localhost:8080/"
        },
        "outputId": "cb26cc2c-2c7f-4703-a9ad-e8ff0e0ff541"
      },
      "outputs": [
        {
          "output_type": "stream",
          "name": "stdout",
          "text": [
            "P98\n"
          ]
        }
      ],
      "source": [
        "call_no = \"QA.76.P98\"\n",
        "\n",
        "last_dot = call_no.rfind('.')\n",
        "\n",
        "cutter = call_no[last_dot + 1:]\n",
        "\n",
        "print(cutter)\n"
      ]
    },
    {
      "cell_type": "markdown",
      "id": "b90c8704",
      "metadata": {
        "id": "b90c8704"
      },
      "source": [
        "## Exercise 25: Rating Validity (Boolean Only)"
      ]
    },
    {
      "cell_type": "markdown",
      "id": "71279be5",
      "metadata": {
        "id": "71279be5"
      },
      "source": [
        "Ask for a rating `0–5`. Compute `valid = (rating >= 0) and (rating <= 5)` and print `valid`."
      ]
    },
    {
      "cell_type": "code",
      "execution_count": null,
      "id": "43029bbd",
      "metadata": {
        "id": "43029bbd",
        "colab": {
          "base_uri": "https://localhost:8080/"
        },
        "outputId": "a3fdf3d4-9288-4295-f087-73cac3865c9a"
      },
      "outputs": [
        {
          "output_type": "stream",
          "name": "stdout",
          "text": [
            "Enter a rating (0-5): 3\n",
            "Valid: True\n"
          ]
        }
      ],
      "source": [
        "rating = float(input(\"Enter a rating (0-5): \"))\n",
        "\n",
        "valid = (rating >= 0 ) and (rating <= 5)\n",
        "print(\"Valid:\", valid)"
      ]
    },
    {
      "cell_type": "markdown",
      "id": "e36cba20",
      "metadata": {
        "id": "e36cba20"
      },
      "source": [
        "## Exercise 26: Tiny Catalog Line"
      ]
    },
    {
      "cell_type": "markdown",
      "id": "eccd9516",
      "metadata": {
        "id": "eccd9516"
      },
      "source": [
        "Create `title`, `author`, and `year`. Print `\"Title — Author (Year)\"` exactly in that format using an f-string."
      ]
    },
    {
      "cell_type": "code",
      "execution_count": null,
      "id": "f7282836",
      "metadata": {
        "id": "f7282836",
        "colab": {
          "base_uri": "https://localhost:8080/"
        },
        "outputId": "43747c70-6664-42b0-a8cf-df4a9ff86cc9"
      },
      "outputs": [
        {
          "output_type": "stream",
          "name": "stdout",
          "text": [
            "Coding is Confusing - Francis Okeagu (2025)\n"
          ]
        }
      ],
      "source": [
        "title = \"Coding is Confusing\"\n",
        "author = \"Francis Okeagu\"\n",
        "year = 2025\n",
        "\n",
        "print(f\"{title} - {author} ({year})\")"
      ]
    },
    {
      "cell_type": "markdown",
      "id": "1c8bb621",
      "metadata": {
        "id": "1c8bb621"
      },
      "source": [
        "## Exercise 27: Average Rating (Rounded)"
      ]
    },
    {
      "cell_type": "markdown",
      "id": "4f2a7035",
      "metadata": {
        "id": "4f2a7035"
      },
      "source": [
        "Given `avg_rating = 4.2667`, print it rounded to two decimals using an f-string format specifier."
      ]
    },
    {
      "cell_type": "code",
      "execution_count": null,
      "id": "a0a55558",
      "metadata": {
        "id": "a0a55558",
        "colab": {
          "base_uri": "https://localhost:8080/"
        },
        "outputId": "1ea7eaa3-eb01-419c-bb20-fcf47c12d61a"
      },
      "outputs": [
        {
          "output_type": "stream",
          "name": "stdout",
          "text": [
            "4.27\n"
          ]
        }
      ],
      "source": [
        "avg_rating = 4.2667\n",
        "\n",
        "print(f\"{avg_rating:.2f}\")"
      ]
    },
    {
      "cell_type": "markdown",
      "id": "58d8cfb2",
      "metadata": {
        "id": "58d8cfb2"
      },
      "source": [
        "## Exercise 28: Query Normalization"
      ]
    },
    {
      "cell_type": "markdown",
      "id": "ea98110b",
      "metadata": {
        "id": "ea98110b"
      },
      "source": [
        "Ask for a search term via `input()` and normalize it by stripping spaces and lowercasing. Print the normalized query."
      ]
    },
    {
      "cell_type": "code",
      "execution_count": null,
      "id": "b7bc3968",
      "metadata": {
        "id": "b7bc3968",
        "colab": {
          "base_uri": "https://localhost:8080/"
        },
        "outputId": "6f229b5d-cd93-4ae4-a245-d1bea6c83395"
      },
      "outputs": [
        {
          "output_type": "stream",
          "name": "stdout",
          "text": [
            "Enter a term: summer\n",
            "Normalized query: dune\n"
          ]
        }
      ],
      "source": [
        "term = input(\"Enter a term: \")\n",
        "\n",
        "normalized = query.strip().lower()\n",
        "\n",
        "print(\"Normalized query:\", normalized)\n"
      ]
    },
    {
      "cell_type": "markdown",
      "id": "5934143d",
      "metadata": {
        "id": "5934143d"
      },
      "source": [
        "## Exercise 29: Borrower Card Line"
      ]
    },
    {
      "cell_type": "markdown",
      "id": "be8b473c",
      "metadata": {
        "id": "be8b473c"
      },
      "source": [
        "Given `name = \"Avery\"` and `id_num = 1024`, print: `\"Borrower: Avery (ID: 1024)\"`."
      ]
    },
    {
      "cell_type": "code",
      "execution_count": null,
      "id": "5bbecd9e",
      "metadata": {
        "id": "5bbecd9e",
        "colab": {
          "base_uri": "https://localhost:8080/"
        },
        "outputId": "8e3496af-171d-4de4-a34c-d1b3adb73aad"
      },
      "outputs": [
        {
          "output_type": "stream",
          "name": "stdout",
          "text": [
            "Borrower: Avery (ID: 1024)\n"
          ]
        }
      ],
      "source": [
        "name = \"Avery\"\n",
        "id_num = 1024\n",
        "\n",
        "print(f\"Borrower: {name} (ID: {id_num})\")"
      ]
    },
    {
      "cell_type": "markdown",
      "id": "d73ef275",
      "metadata": {
        "id": "d73ef275"
      },
      "source": [
        "## Exercise 30: Stock State (No Branching)"
      ]
    },
    {
      "cell_type": "markdown",
      "id": "67dcf65a",
      "metadata": {
        "id": "67dcf65a"
      },
      "source": [
        "Let `copies = 1`. Compute booleans: `none = (copies == 0)`, `single = (copies == 1)`, `many = (copies > 1)`. Print all three in one line."
      ]
    },
    {
      "cell_type": "code",
      "execution_count": null,
      "id": "3a6aaa15",
      "metadata": {
        "id": "3a6aaa15",
        "colab": {
          "base_uri": "https://localhost:8080/"
        },
        "outputId": "f4ad2439-4343-4cfc-a247-f50172868c0c"
      },
      "outputs": [
        {
          "output_type": "stream",
          "name": "stdout",
          "text": [
            "False True False\n"
          ]
        }
      ],
      "source": [
        "copies = 1\n",
        "\n",
        "none = (copies == 0)\n",
        "single = (copies == 1)\n",
        "many = (copies > 1)\n",
        "\n",
        "print(f\"{none} {single} {none}\")"
      ]
    }
  ],
  "metadata": {
    "colab": {
      "provenance": [],
      "include_colab_link": true
    },
    "kernelspec": {
      "display_name": "Python 3",
      "name": "python3"
    },
    "language_info": {
      "codemirror_mode": {
        "name": "ipython",
        "version": 3
      },
      "file_extension": ".py",
      "mimetype": "text/x-python",
      "name": "python",
      "nbconvert_exporter": "python",
      "pygments_lexer": "ipython3",
      "version": "3.9.6"
    }
  },
  "nbformat": 4,
  "nbformat_minor": 5
}