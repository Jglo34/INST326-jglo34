{
  "nbformat": 4,
  "nbformat_minor": 5,
  "metadata": {
    "kernelspec": {
      "display_name": "Python 3",
      "language": "python",
      "name": "python3"
    },
    "language_info": {
      "name": "python",
      "version": "3.x"
    },
    "title": "INST326 Week 4 – Classes & Objects (Library Management Project)",
    "colab": {
      "provenance": [],
      "include_colab_link": true
    }
  },
  "cells": [
    {
      "cell_type": "markdown",
      "metadata": {
        "id": "view-in-github",
        "colab_type": "text"
      },
      "source": [
        "<a href=\"https://colab.research.google.com/github/Jglo34/INST326-jglo34/blob/main/INST326_w04_exercises.ipynb\" target=\"_parent\"><img src=\"https://colab.research.google.com/assets/colab-badge.svg\" alt=\"Open In Colab\"/></a>"
      ]
    },
    {
      "cell_type": "markdown",
      "metadata": {
        "id": "GPOgxHsfupMR"
      },
      "source": [
        "# INST326 – Week 4 Exercises: Classes & Objects\n",
        "_Library Management Project_\n",
        "\n",
        "_Generated: 2025-09-28 23:47_\n",
        "\n",
        "Week 4 focuses on **classes and objects**: defining classes, initializing attributes with `__init__`, and writing simple instance methods that operate on those attributes. These exercises **avoid** topics from Week 5 or later (e.g., properties/getters/setters, access control conventions, class/static methods, exceptions/testing frameworks, inheritance, polymorphism, composition patterns)."
      ],
      "id": "GPOgxHsfupMR"
    },
    {
      "cell_type": "markdown",
      "metadata": {
        "id": "_Qm3w_d6upMT"
      },
      "source": [
        "\n",
        "## Required Python Skills (for these exercises)\n",
        "- Variables and basic data types (str, int, float, bool)\n",
        "- Expressions, arithmetic, and comparison operators\n",
        "- Input/output (print), f-strings\n",
        "- Collections: lists, tuples, dictionaries, sets (basic use)\n",
        "- Control flow: `if` statements, `for`/`while` loops\n",
        "- Functions: defining and calling functions, parameters, return values\n",
        "- Modules and basic file structure (importing your own helper functions if desired)\n",
        "- **Week 4 focus:** defining classes, `__init__`, instance attributes, and instance methods that read/modify those attributes\n"
      ],
      "id": "_Qm3w_d6upMT"
    },
    {
      "cell_type": "markdown",
      "metadata": {
        "id": "We4gUbGrupMU"
      },
      "source": [
        "\n",
        "> ### Instructions\n",
        "> - For each exercise, **create a class** with an `__init__` method and **one or more instance methods**.\n",
        "> - Keep the implementation simple; you **may** use lists/dicts internally.\n",
        "> - **Do not** use `@property`, `@classmethod`, `@staticmethod`, name-mangling (e.g., `__x`), inheritance, or exception/test frameworks.\n",
        "> - Where mini-tests are provided, you can run the cell to self-check your work.\n",
        "> - Replace the `# Your code here` sections with your implementation.\n"
      ],
      "id": "We4gUbGrupMU"
    },
    {
      "cell_type": "markdown",
      "metadata": {
        "id": "UsBBHAfdupMU"
      },
      "source": [
        "---\n",
        "\n",
        "## Exercise 1: Book: basic attributes & summary\n",
        "\n",
        "Create a `Book` class with attributes: `title` (str), `author` (str), `isbn` (str), and `year` (int). Add a method `summary()` that returns a string like: `\"Title (Year) by Author [ISBN]\"`."
      ],
      "id": "UsBBHAfdupMU"
    },
    {
      "cell_type": "code",
      "metadata": {
        "id": "H2urNH0xupMV"
      },
      "execution_count": 1,
      "outputs": [],
      "source": [
        "class Book:\n",
        "    def __init__(self, title: str, author: str, isbn: str, year: int):\n",
        "        # Your code here\n",
        "        pass\n",
        "\n",
        "    def summary(self) -> str:\n",
        "        # Your code here\n",
        "        pass\n",
        "\n",
        "# Example (uncomment after implementing)\n",
        "# b = Book(\"The Pragmatic Programmer\", \"Hunt & Thomas\", \"978-0201616224\", 1999)\n",
        "# print(b.summary())  # -> \"The Pragmatic Programmer (1999) by Hunt & Thomas [978-0201616224]\"\n"
      ],
      "id": "H2urNH0xupMV"
    },
    {
      "cell_type": "code",
      "metadata": {
        "id": "yUH5ra_uupMW"
      },
      "execution_count": null,
      "outputs": [],
      "source": [
        "# Quick check\n",
        "b = Book(\"The Pragmatic Programmer\", \"Hunt & Thomas\", \"978-0201616224\", 1999)\n",
        "assert \"Pragmatic Programmer\" in b.summary()\n",
        "assert \"1999\" in b.summary()\n",
        "assert \"Hunt & Thomas\" in b.summary()\n",
        "assert \"978-0201616224\" in b.summary()\n",
        "print(\"Exercise 1: looks good!\")"
      ],
      "id": "yUH5ra_uupMW"
    },
    {
      "cell_type": "markdown",
      "metadata": {
        "id": "UCwFsmbIupMX"
      },
      "source": [
        "---\n",
        "\n",
        "## Exercise 2: Member: borrow limit counter\n",
        "\n",
        "Create a `Member` class with attributes: `name` (str) and `borrowed_count` (int, starting at 0). Add methods `borrow_one()` (increments count) and `return_one()` (decrements but not below 0). Add `can_borrow(limit: int)` returning `True` if `borrowed_count < limit`."
      ],
      "id": "UCwFsmbIupMX"
    },
    {
      "cell_type": "code",
      "metadata": {
        "id": "vzMspwdjupMX"
      },
      "execution_count": 2,
      "outputs": [],
      "source": [
        "class Member:\n",
        "    def __init__(self, name: str):\n",
        "        # Your code here\n",
        "        pass\n",
        "\n",
        "    def borrow_one(self) -> None:\n",
        "        # Your code here\n",
        "        pass\n",
        "\n",
        "    def return_one(self) -> None:\n",
        "        # Your code here\n",
        "        pass\n",
        "\n",
        "    def can_borrow(self, limit: int) -> bool:\n",
        "        # Your code here\n",
        "        pass\n",
        "\n",
        "# Example checks\n",
        "# m = Member(\"Alex\")\n",
        "# print(m.can_borrow(3))  # True\n",
        "# m.borrow_one(); m.borrow_one(); m.borrow_one()\n",
        "# print(m.can_borrow(3))  # False\n"
      ],
      "id": "vzMspwdjupMX"
    },
    {
      "cell_type": "code",
      "metadata": {
        "id": "ME2vpLTRupMY"
      },
      "execution_count": null,
      "outputs": [],
      "source": [
        "m = Member(\"Alex\")\n",
        "assert m.can_borrow(3) is True\n",
        "m.borrow_one(); m.borrow_one(); m.borrow_one()\n",
        "assert m.can_borrow(3) is False\n",
        "m.return_one(); m.return_one(); m.return_one(); m.return_one()\n",
        "assert m.borrowed_count == 0\n",
        "print(\"Exercise 2: looks good!\")"
      ],
      "id": "ME2vpLTRupMY"
    },
    {
      "cell_type": "markdown",
      "metadata": {
        "id": "XNwmfgO_upMZ"
      },
      "source": [
        "---\n",
        "\n",
        "## Exercise 3: SimpleLoan: state transitions\n",
        "\n",
        "Create a `SimpleLoan` class with attributes: `book_title` (str), `member_name` (str), and `returned` (bool, start False). Add methods `mark_returned()` and `is_active()` (active if not returned)."
      ],
      "id": "XNwmfgO_upMZ"
    },
    {
      "cell_type": "code",
      "metadata": {
        "id": "s87qM1EWupMa"
      },
      "execution_count": 3,
      "outputs": [],
      "source": [
        "class SimpleLoan:\n",
        "    def __init__(self, book_title: str, member_name: str):\n",
        "        self.book_title = book_title\n",
        "        self.member_name = member_name\n",
        "        self.returned = False\n",
        "\n",
        "    def mark_returned(self) -> None:\n",
        "        self.returned = True\n",
        "\n",
        "    def is_active(self) -> bool:\n",
        "        return not self.returned\n",
        "\n",
        "# Example:\n",
        "# l = SimpleLoan(\"Dune\", \"Sam\")\n",
        "# print(l.is_active())  # True\n",
        "# l.mark_returned()\n",
        "# print(l.is_active())  # False"
      ],
      "id": "s87qM1EWupMa"
    },
    {
      "cell_type": "code",
      "metadata": {
        "id": "wBdPG_PFupMa"
      },
      "execution_count": null,
      "outputs": [],
      "source": [
        "l = SimpleLoan(\"Dune\", \"Sam\")\n",
        "assert l.is_active() is True\n",
        "l.mark_returned()\n",
        "assert l.is_active() is False\n",
        "print(\"Exercise 3: looks good!\")"
      ],
      "id": "wBdPG_PFupMa"
    },
    {
      "cell_type": "markdown",
      "metadata": {
        "id": "58Uwiea1upMb"
      },
      "source": [
        "---\n",
        "\n",
        "## Exercise 4: Shelf: capacity & add/remove by title\n",
        "\n",
        "Create a `Shelf` class with attributes: `name` (str), `capacity` (int), and `titles` (list of str, start empty). Add methods `add_title(t)` (adds if space available; return True/False), `remove_title(t)` (removes if present; return True/False), and `space_left()` returning remaining capacity."
      ],
      "id": "58Uwiea1upMb"
    },
    {
      "cell_type": "code",
      "metadata": {
        "id": "9Ki9Y5tlupMb"
      },
      "execution_count": 4,
      "outputs": [],
      "source": [
        "class Shelf:\n",
        "    def __init__(self, name: str, capacity: int):\n",
        "        self.name = name\n",
        "        self.capacity = capacity\n",
        "        self.titles = []\n",
        "\n",
        "    def add_title(self, t: str) -> bool:\n",
        "        if len(self.titles) < self.capacity:\n",
        "            self.titles.append(t)\n",
        "            return True\n",
        "        return False\n",
        "\n",
        "    def remove_title(self, t: str) -> bool:\n",
        "        if t in self.titles:\n",
        "            self.titles.remove(t)\n",
        "            return True\n",
        "        return False\n",
        "\n",
        "    def space_left(self) -> int:\n",
        "        return self.capacity - len(self.titles)"
      ],
      "id": "9Ki9Y5tlupMb"
    },
    {
      "cell_type": "code",
      "metadata": {
        "id": "1sk2fMMBupMb"
      },
      "execution_count": null,
      "outputs": [],
      "source": [
        "s = Shelf(\"New Arrivals\", 2)\n",
        "assert s.add_title(\"Book A\") is True\n",
        "assert s.add_title(\"Book B\") is True\n",
        "assert s.add_title(\"Book C\") is False\n",
        "assert s.space_left() == 0\n",
        "assert s.remove_title(\"Book B\") is True\n",
        "assert s.space_left() == 1\n",
        "print(\"Exercise 4: looks good!\")"
      ],
      "id": "1sk2fMMBupMb"
    },
    {
      "cell_type": "markdown",
      "metadata": {
        "id": "ZX3M3DVnupMb"
      },
      "source": [
        "---\n",
        "\n",
        "## Exercise 5: Author: bibliography tracker\n",
        "\n",
        "Create an `Author` class with attributes: `name` (str) and `works` (list of str). Add methods `add_work(title)` and `has_written(title)` returning bool."
      ],
      "id": "ZX3M3DVnupMb"
    },
    {
      "cell_type": "code",
      "metadata": {
        "id": "EXYNUec6upMb"
      },
      "execution_count": 5,
      "outputs": [],
      "source": [
        "class Author:\n",
        "    def __init__(self, name: str):\n",
        "        self.name = name\n",
        "        self.works = []\n",
        "\n",
        "    def add_work(self, title: str) -> None:\n",
        "        self.works.append(title)\n",
        "\n",
        "    def has_written(self, title: str) -> bool:\n",
        "        return title in self.works"
      ],
      "id": "EXYNUec6upMb"
    },
    {
      "cell_type": "code",
      "metadata": {
        "id": "3Zl9Vw0KupMc"
      },
      "execution_count": null,
      "outputs": [],
      "source": [
        "a = Author(\"Octavia Butler\")\n",
        "a.add_work(\"Kindred\")\n",
        "assert a.has_written(\"Kindred\") is True\n",
        "assert a.has_written(\"Dawn\") is False\n",
        "print(\"Exercise 5: looks good!\")"
      ],
      "id": "3Zl9Vw0KupMc"
    },
    {
      "cell_type": "markdown",
      "metadata": {
        "id": "-6d5Gbl8upMc"
      },
      "source": [
        "---\n",
        "\n",
        "## Exercise 6: PatronID: simple formatter\n",
        "\n",
        "Create a `PatronID` class with attributes: `prefix` (str) and `number` (int). Add a method `format()` returning strings like `LIB-000123` when prefix is `LIB` and number is `123` (pad to 6 digits)."
      ],
      "id": "-6d5Gbl8upMc"
    },
    {
      "cell_type": "code",
      "metadata": {
        "id": "7SQKP1gHupMc"
      },
      "execution_count": null,
      "outputs": [],
      "source": [
        "class PatronID:\n",
        "    def __init__(self, prefix: str, number: int):\n",
        "        self.prefix = prefix\n",
        "        self.number = number\n",
        "\n",
        "    def format(self) -> str:\n",
        "        return f\"{self.prefix}-{self.number:06d}\""
      ],
      "id": "7SQKP1gHupMc"
    },
    {
      "cell_type": "code",
      "metadata": {
        "id": "FR24-y8qupMc"
      },
      "execution_count": null,
      "outputs": [],
      "source": [
        "pid = PatronID(\"LIB\", 123)\n",
        "assert pid.format() == \"LIB-000123\"\n",
        "print(\"Exercise 6: looks good!\")"
      ],
      "id": "FR24-y8qupMc"
    },
    {
      "cell_type": "markdown",
      "metadata": {
        "id": "qFO1R3VeupMc"
      },
      "source": [
        "---\n",
        "\n",
        "## Exercise 7: BookCopy: availability flag\n",
        "\n",
        "Create a `BookCopy` class with attributes: `isbn` (str), `copy_no` (int), and `available` (bool, start True). Add methods `checkout()` (sets available False if currently True; return True/False) and `checkin()` (sets True if currently False; return True/False)."
      ],
      "id": "qFO1R3VeupMc"
    },
    {
      "cell_type": "code",
      "metadata": {
        "id": "GWWU05hTupMd"
      },
      "execution_count": 6,
      "outputs": [],
      "source": [
        "class BookCopy:\n",
        "    def __init__(self, isbn: str, copy_no: int):\n",
        "        self.isbn = isbn\n",
        "        self.copy_no = copy_no\n",
        "        self.available = True\n",
        "\n",
        "    def checkout(self) -> bool:\n",
        "        if self.available:\n",
        "            self.available = False\n",
        "            return True\n",
        "        return False\n",
        "\n",
        "    def checkin(self) -> bool:\n",
        "        if not self.available:\n",
        "            self.available = True\n",
        "            return True\n",
        "        return False"
      ],
      "id": "GWWU05hTupMd"
    },
    {
      "cell_type": "code",
      "metadata": {
        "id": "qligzHVPupMd"
      },
      "execution_count": null,
      "outputs": [],
      "source": [
        "bc = BookCopy(\"978-0135166307\", 1)\n",
        "assert bc.checkout() is True\n",
        "assert bc.checkout() is False\n",
        "assert bc.checkin() is True\n",
        "assert bc.checkin() is False\n",
        "print(\"Exercise 7: looks good!\")"
      ],
      "id": "qligzHVPupMd"
    },
    {
      "cell_type": "markdown",
      "metadata": {
        "id": "E_oopqJKupMd"
      },
      "source": [
        "---\n",
        "\n",
        "## Exercise 8: Branch: open hours note\n",
        "\n",
        "Create a `Branch` class with attributes: `name` (str), `open_hours_note` (str). Add method `is_open_note()` returning the open hours note string; allow updating the note via a method `set_open_hours(note)`."
      ],
      "id": "E_oopqJKupMd"
    },
    {
      "cell_type": "code",
      "metadata": {
        "id": "GcDVahPkupMe"
      },
      "execution_count": 7,
      "outputs": [],
      "source": [
        "class Branch:\n",
        "    def __init__(self, name: str, open_hours_note: str):\n",
        "        self.name = name\n",
        "        self.open_hours_note = open_hours_note\n",
        "\n",
        "    def is_open_note(self) -> str:\n",
        "        return self.open_hours_note\n",
        "\n",
        "    def set_open_hours(self, note: str) -> None:\n",
        "        self.open_hours_note = note"
      ],
      "id": "GcDVahPkupMe"
    },
    {
      "cell_type": "code",
      "metadata": {
        "id": "Hspnm-LYupMe"
      },
      "execution_count": null,
      "outputs": [],
      "source": [
        "b = Branch(\"Downtown\", \"Mon-Fri 9-5\")\n",
        "assert b.is_open_note() == \"Mon-Fri 9-5\"\n",
        "b.set_open_hours(\"Mon-Sat 9-6\")\n",
        "assert b.is_open_note() == \"Mon-Sat 9-6\"\n",
        "print(\"Exercise 8: looks good!\")"
      ],
      "id": "Hspnm-LYupMe"
    },
    {
      "cell_type": "markdown",
      "metadata": {
        "id": "M3GXHbMWupMe"
      },
      "source": [
        "---\n",
        "\n",
        "## Exercise 9: GenreTagger: simple tag bag\n",
        "\n",
        "Create a `GenreTagger` class with attributes: `title` (str) and `tags` (set of str). Add methods `add_tag(tag)`, `remove_tag(tag)` (return True/False), and `has_tag(tag)` (bool)."
      ],
      "id": "M3GXHbMWupMe"
    },
    {
      "cell_type": "code",
      "metadata": {
        "id": "EAc4E8AGupMe"
      },
      "execution_count": 8,
      "outputs": [],
      "source": [
        "class GenreTagger:\n",
        "    def __init__(self, title: str):\n",
        "        self.title = title\n",
        "        self.tags = set()\n",
        "\n",
        "    def add_tag(self, tag: str) -> None:\n",
        "        self.tags.add(tag)\n",
        "\n",
        "    def remove_tag(self, tag: str) -> bool:\n",
        "        if tag in self.tags:\n",
        "            self.tags.remove(tag)\n",
        "            return True\n",
        "        return False\n",
        "\n",
        "    def has_tag(self, tag: str) -> bool:\n",
        "        return tag in self.tags"
      ],
      "id": "EAc4E8AGupMe"
    },
    {
      "cell_type": "code",
      "metadata": {
        "id": "5uSo8GErupMf"
      },
      "execution_count": null,
      "outputs": [],
      "source": [
        "g = GenreTagger(\"Neuromancer\")\n",
        "g.add_tag(\"cyberpunk\")\n",
        "g.add_tag(\"sci-fi\")\n",
        "assert g.has_tag(\"sci-fi\") is True\n",
        "assert g.remove_tag(\"mystery\") is False\n",
        "assert g.remove_tag(\"cyberpunk\") is True\n",
        "print(\"Exercise 9: looks good!\")"
      ],
      "id": "5uSo8GErupMf"
    },
    {
      "cell_type": "markdown",
      "metadata": {
        "id": "oGSZy2o9upMf"
      },
      "source": [
        "---\n",
        "\n",
        "## Exercise 10: Rating: bounded store (no exceptions)\n",
        "\n",
        "Create a `Rating` class with attributes: `title` (str) and `scores` (list of ints). Add `add_score(x)` which **ignores** values outside 1..5 and returns True if stored else False. Add `average()` returning average score or `None` if no scores."
      ],
      "id": "oGSZy2o9upMf"
    },
    {
      "cell_type": "code",
      "metadata": {
        "id": "AXkVvGgwupMf"
      },
      "execution_count": 9,
      "outputs": [],
      "source": [
        "class Rating:\n",
        "    def __init__(self, title: str):\n",
        "        self.title = title\n",
        "        self.scores = []\n",
        "\n",
        "    def add_score(self, x: int) -> bool:\n",
        "        if 1 <= x <= 5:\n",
        "            self.scores.append(x)\n",
        "            return True\n",
        "        return False\n",
        "\n",
        "    def average(self):\n",
        "        if not self.scores:\n",
        "            return None\n",
        "        return sum(self.scores) / len(self.scores)"
      ],
      "id": "AXkVvGgwupMf"
    },
    {
      "cell_type": "code",
      "metadata": {
        "id": "IfJ3hK2WupMf"
      },
      "execution_count": null,
      "outputs": [],
      "source": [
        "r = Rating(\"Dune\")\n",
        "assert r.average() is None\n",
        "assert r.add_score(5) is True\n",
        "assert r.add_score(0) is False\n",
        "assert r.add_score(3) is True\n",
        "avg = r.average()\n",
        "assert 3.9 > avg > 3.4\n",
        "print(\"Exercise 10: looks good!\")"
      ],
      "id": "IfJ3hK2WupMf"
    },
    {
      "cell_type": "markdown",
      "metadata": {
        "id": "_9j1BllCupMg"
      },
      "source": [
        "---\n",
        "\n",
        "## Exercise 11: CatalogEntry: keywords search (contains)\n",
        "\n",
        "Create a `CatalogEntry` with attributes: `title` (str) and `keywords` (list of str). Add method `matches(query: str)` returning True if the lowercase `query` is a substring of the lowercase title **or** equals any lowercase keyword."
      ],
      "id": "_9j1BllCupMg"
    },
    {
      "cell_type": "code",
      "metadata": {
        "id": "8HbmHxp4upMg"
      },
      "execution_count": 10,
      "outputs": [],
      "source": [
        "class CatalogEntry:\n",
        "    def __init__(self, title: str, keywords: list[str]):\n",
        "        self.title = title\n",
        "        self.keywords = keywords\n",
        "\n",
        "    def matches(self, query: str) -> bool:\n",
        "        query_lower = query.lower()\n",
        "        if query_lower in self.title.lower():\n",
        "            return True\n",
        "        for keyword in self.keywords:\n",
        "            if query_lower == keyword.lower():\n",
        "                return True\n",
        "        return False"
      ],
      "id": "8HbmHxp4upMg"
    },
    {
      "cell_type": "code",
      "metadata": {
        "id": "DDInnKTnupMg"
      },
      "execution_count": null,
      "outputs": [],
      "source": [
        "ce = CatalogEntry(\"Introduction to Information Science\", [\"library\", \"metadata\", \"information\"])\n",
        "assert ce.matches(\"science\") is True\n",
        "assert ce.matches(\"Library\") is True\n",
        "assert ce.matches(\"data\") is False\n",
        "print(\"Exercise 11: looks good!\")"
      ],
      "id": "DDInnKTnupMg"
    },
    {
      "cell_type": "markdown",
      "metadata": {
        "id": "CSHiummGupMg"
      },
      "source": [
        "---\n",
        "\n",
        "## Exercise 12: HoldRequest: queue length & status text\n",
        "\n",
        "Create a `HoldRequest` class with attributes: `isbn` (str) and `queue_length` (int, default 0). Add methods `add_to_queue(n)` (increase length by n), `pop_one()` (decrease by 1 but not below 0), and `status()` returning e.g. `'5 ahead'` or `'no wait'`."
      ],
      "id": "CSHiummGupMg"
    },
    {
      "cell_type": "code",
      "metadata": {
        "id": "sWG8E-upupMg"
      },
      "execution_count": 11,
      "outputs": [],
      "source": [
        "class HoldRequest:\n",
        "    def __init__(self, isbn: str, queue_length: int = 0):\n",
        "        self.isbn = isbn\n",
        "        self.queue_length = queue_length\n",
        "\n",
        "    def add_to_queue(self, n: int) -> None:\n",
        "        self.queue_length += n\n",
        "\n",
        "    def pop_one(self) -> None:\n",
        "        if self.queue_length > 0:\n",
        "            self.queue_length -= 1\n",
        "\n",
        "    def status(self) -> str:\n",
        "        if self.queue_length == 0:\n",
        "            return \"no wait\"\n",
        "        else:\n",
        "            return f\"{self.queue_length} ahead\""
      ],
      "id": "sWG8E-upupMg"
    },
    {
      "cell_type": "code",
      "metadata": {
        "id": "Kv0zi_0QupMh"
      },
      "execution_count": null,
      "outputs": [],
      "source": [
        "h = HoldRequest(\"978-0262046305\", 2)\n",
        "h.add_to_queue(3)\n",
        "assert h.status() == \"5 ahead\"\n",
        "h.pop_one(); h.pop_one(); h.pop_one(); h.pop_one(); h.pop_one()\n",
        "assert h.status() == \"no wait\"\n",
        "print(\"Exercise 12: looks good!\")"
      ],
      "id": "Kv0zi_0QupMh"
    },
    {
      "cell_type": "markdown",
      "metadata": {
        "id": "6suFijnJupMt"
      },
      "source": [
        "---\n",
        "\n",
        "## Exercise 13: UserNote: append & preview\n",
        "\n",
        "Create a `UserNote` with attributes: `owner` (str) and `notes` (list of str). Add `add(text)` to append notes and `preview(n)` returning the first `n` characters of the concatenated notes (with a single space between notes)."
      ],
      "id": "6suFijnJupMt"
    },
    {
      "cell_type": "code",
      "metadata": {
        "id": "Ahn4ofuqupMt"
      },
      "execution_count": 12,
      "outputs": [],
      "source": [
        "class UserNote:\n",
        "    def __init__(self, owner: str):\n",
        "        self.owner = owner\n",
        "        self.notes = []\n",
        "\n",
        "    def add(self, text: str) -> None:\n",
        "        self.notes.append(text)\n",
        "\n",
        "    def preview(self, n: int) -> str:\n",
        "        full_note = \" \".join(self.notes)\n",
        "        return full_note[:n]"
      ],
      "id": "Ahn4ofuqupMt"
    },
    {
      "cell_type": "code",
      "metadata": {
        "id": "ZDj4Usr3upMt"
      },
      "execution_count": null,
      "outputs": [],
      "source": [
        "un = UserNote(\"Kai\")\n",
        "un.add(\"Great read\")\n",
        "un.add(\"highly recommended\")\n",
        "assert un.preview(11) == \"Great read\"\n",
        "assert un.preview(30).startswith(\"Great read highly\")\n",
        "print(\"Exercise 13: looks good!\")"
      ],
      "id": "ZDj4Usr3upMt"
    },
    {
      "cell_type": "markdown",
      "metadata": {
        "id": "_eOjhrLUupMu"
      },
      "source": [
        "---\n",
        "\n",
        "## Exercise 14: FineCounter: pennies to dollars view\n",
        "\n",
        "Create a `FineCounter` with attribute `cents` (int, default 0). Add methods `add(days_late, rate_per_day_cents)` (increase by days*rate), `reset()`, and `as_dollars()` returning a float rounded to 2 decimals."
      ],
      "id": "_eOjhrLUupMu"
    },
    {
      "cell_type": "code",
      "metadata": {
        "id": "NyJmEU2DupMu"
      },
      "execution_count": 13,
      "outputs": [],
      "source": [
        "class FineCounter:\n",
        "    def __init__(self, cents: int = 0):\n",
        "        self.cents = cents\n",
        "\n",
        "    def add(self, days_late: int, rate_per_day_cents: int) -> None:\n",
        "        self.cents += days_late * rate_per_day_cents\n",
        "\n",
        "    def reset(self) -> None:\n",
        "        self.cents = 0\n",
        "\n",
        "    def as_dollars(self) -> float:\n",
        "        return round(self.cents / 100, 2)"
      ],
      "id": "NyJmEU2DupMu"
    },
    {
      "cell_type": "code",
      "metadata": {
        "id": "Eifc02b3upMu"
      },
      "execution_count": null,
      "outputs": [],
      "source": [
        "fc = FineCounter()\n",
        "fc.add(3, 25)  # 75 cents\n",
        "fc.add(2, 50)  # +100\n",
        "assert abs(fc.as_dollars() - 1.75) < 1e-6\n",
        "fc.reset()\n",
        "assert fc.cents == 0\n",
        "print(\"Exercise 14: looks good!\")"
      ],
      "id": "Eifc02b3upMu"
    },
    {
      "cell_type": "markdown",
      "metadata": {
        "id": "OAtumbPmupMu"
      },
      "source": [
        "---\n",
        "\n",
        "## Exercise 15: SimpleSearchLog: count queries\n",
        "\n",
        "Create a `SimpleSearchLog` with attribute `queries` (list of str). Add `record(q)` to append and `count(term)` returning the number of recorded queries that contain `term` (case-insensitive substring)."
      ],
      "id": "OAtumbPmupMu"
    },
    {
      "cell_type": "code",
      "metadata": {
        "id": "HFjRmHDaupMv"
      },
      "execution_count": 14,
      "outputs": [],
      "source": [
        "class SimpleSearchLog:\n",
        "    def __init__(self):\n",
        "        self.queries = []\n",
        "\n",
        "    def record(self, q: str) -> None:\n",
        "        self.queries.append(q)\n",
        "\n",
        "    def count(self, term: str) -> int:\n",
        "        term_lower = term.lower()\n",
        "        count = 0\n",
        "        for query in self.queries:\n",
        "            if term_lower in query.lower():\n",
        "                count += 1\n",
        "        return count"
      ],
      "id": "HFjRmHDaupMv"
    },
    {
      "cell_type": "code",
      "metadata": {
        "id": "-jbgXr19upMv"
      },
      "execution_count": null,
      "outputs": [],
      "source": [
        "log = SimpleSearchLog()\n",
        "for q in [\"data mining\", \"Data science\", \"metadata schema\"]:\n",
        "    log.record(q)\n",
        "assert log.count(\"data\") == 3\n",
        "assert log.count(\"schema\") == 1\n",
        "print(\"Exercise 15: looks good!\")"
      ],
      "id": "-jbgXr19upMv"
    },
    {
      "cell_type": "markdown",
      "metadata": {
        "id": "NE7bar4nupMv"
      },
      "source": [
        "---\n",
        "\n",
        "## Exercise 16: CopyTracker: total vs available\n",
        "\n",
        "Create `CopyTracker` with attributes `total` (int) and `available` (int). Add methods `add_copies(n)` (increase both totals) and `checkout()`/`checkin()` that adjust `available` if possible; return True/False."
      ],
      "id": "NE7bar4nupMv"
    },
    {
      "cell_type": "code",
      "metadata": {
        "id": "VHUJa2R8upMv"
      },
      "execution_count": 15,
      "outputs": [],
      "source": [
        "class CopyTracker:\n",
        "    def __init__(self, total: int, available: int):\n",
        "        self.total = total\n",
        "        self.available = available\n",
        "\n",
        "    def add_copies(self, n: int) -> None:\n",
        "        self.total += n\n",
        "        self.available += n\n",
        "\n",
        "    def checkout(self) -> bool:\n",
        "        if self.available > 0:\n",
        "            self.available -= 1\n",
        "            return True\n",
        "        return False\n",
        "\n",
        "    def checkin(self) -> bool:\n",
        "        if self.available < self.total:\n",
        "            self.available += 1\n",
        "            return True\n",
        "        return False"
      ],
      "id": "VHUJa2R8upMv"
    },
    {
      "cell_type": "code",
      "metadata": {
        "id": "uaed_F7TupMw"
      },
      "execution_count": null,
      "outputs": [],
      "source": [
        "ct = CopyTracker(2, 2)\n",
        "assert ct.checkout() is True\n",
        "assert ct.checkout() is True\n",
        "assert ct.checkout() is False\n",
        "assert ct.checkin() is True\n",
        "ct.add_copies(3)\n",
        "assert ct.total == 5 and ct.available == 4\n",
        "print(\"Exercise 16: looks good!\")"
      ],
      "id": "uaed_F7TupMw"
    },
    {
      "cell_type": "markdown",
      "metadata": {
        "id": "YVPNLX19upMw"
      },
      "source": [
        "---\n",
        "\n",
        "## Exercise 17: ISBNTools: basic length check\n",
        "\n",
        "Create `ISBNTools` with attribute `raw` (str). Add `is_isbn10_or_13()` that returns True iff the string contains either 10 or 13 **digits** (ignore hyphens/spaces). No checksums."
      ],
      "id": "YVPNLX19upMw"
    },
    {
      "cell_type": "code",
      "metadata": {
        "id": "g-f4OtA3upMw"
      },
      "execution_count": 16,
      "outputs": [],
      "source": [
        "import re\n",
        "\n",
        "class ISBNTools:\n",
        "    def __init__(self, raw: str):\n",
        "        self.raw = raw\n",
        "\n",
        "    def is_isbn10_or_13(self) -> bool:\n",
        "        digits = re.sub(r'[^0-9]', '', self.raw)\n",
        "        return len(digits) == 10 or len(digits) == 13"
      ],
      "id": "g-f4OtA3upMw"
    },
    {
      "cell_type": "code",
      "metadata": {
        "id": "cymnj-JLupMw"
      },
      "execution_count": null,
      "outputs": [],
      "source": [
        "t1 = ISBNTools(\"978-0135166307\")\n",
        "t2 = ISBNTools(\"0 201 61622 4\")\n",
        "t3 = ISBNTools(\"ABC123\")\n",
        "assert t1.is_isbn10_or_13() is True\n",
        "assert t2.is_isbn10_or_13() is True\n",
        "assert t3.is_isbn10_or_13() is False\n",
        "print(\"Exercise 17: looks good!\")"
      ],
      "id": "cymnj-JLupMw"
    },
    {
      "cell_type": "markdown",
      "metadata": {
        "id": "ykqOXAl8upMx"
      },
      "source": [
        "---\n",
        "\n",
        "## Exercise 18: ReadingList: add/remove & length\n",
        "\n",
        "Create `ReadingList` with attribute `titles` (list of str). Add methods `add(title)`, `remove(title)` (True/False), and `size()` returning count."
      ],
      "id": "ykqOXAl8upMx"
    },
    {
      "cell_type": "code",
      "metadata": {
        "id": "3AuNA_xAupMx"
      },
      "execution_count": 17,
      "outputs": [],
      "source": [
        "class ReadingList:\n",
        "    def __init__(self):\n",
        "        self.titles = []\n",
        "\n",
        "    def add(self, title: str) -> None:\n",
        "        self.titles.append(title)\n",
        "\n",
        "    def remove(self, title: str) -> bool:\n",
        "        if title in self.titles:\n",
        "            self.titles.remove(title)\n",
        "            return True\n",
        "        return False\n",
        "\n",
        "    def size(self) -> int:\n",
        "        return len(self.titles)"
      ],
      "id": "3AuNA_xAupMx"
    },
    {
      "cell_type": "code",
      "metadata": {
        "id": "L25WfcauupMx"
      },
      "execution_count": null,
      "outputs": [],
      "source": [
        "rl = ReadingList()\n",
        "rl.add(\"Clean Code\")\n",
        "rl.add(\"Fluent Python\")\n",
        "assert rl.size() == 2\n",
        "assert rl.remove(\"Unknown\") is False\n",
        "assert rl.remove(\"Clean Code\") is True\n",
        "print(\"Exercise 18: looks good!\")"
      ],
      "id": "L25WfcauupMx"
    },
    {
      "cell_type": "markdown",
      "metadata": {
        "id": "0dvV40kgupMx"
      },
      "source": [
        "---\n",
        "\n",
        "## Exercise 19: TopicCounter: top-n topics (no ties handling)\n",
        "\n",
        "Create `TopicCounter` with attribute `counts` (dict: topic->int). Add `add(topic)` to increment and `top(n)` to return a **list of topics** with highest counts (break ties arbitrarily)."
      ],
      "id": "0dvV40kgupMx"
    },
    {
      "cell_type": "code",
      "metadata": {
        "id": "DRcWEK71upMy"
      },
      "execution_count": 18,
      "outputs": [],
      "source": [
        "class TopicCounter:\n",
        "    def __init__(self):\n",
        "        self.counts = {}\n",
        "\n",
        "    def add(self, topic: str) -> None:\n",
        "        self.counts[topic] = self.counts.get(topic, 0) + 1\n",
        "\n",
        "    def top(self, n: int) -> list[str]:\n",
        "        sorted_topics = sorted(self.counts, key=self.counts.get, reverse=True)\n",
        "        return sorted_topics[:n]"
      ],
      "id": "DRcWEK71upMy"
    },
    {
      "cell_type": "code",
      "metadata": {
        "id": "fpO2LbE2upMy"
      },
      "execution_count": null,
      "outputs": [],
      "source": [
        "tc = TopicCounter()\n",
        "for t in [\"ai\",\"metadata\",\"ai\",\"search\",\"ai\",\"search\"]:\n",
        "    tc.add(t)\n",
        "tops = tc.top(2)\n",
        "assert \"ai\" in tops and len(tops) == 2\n",
        "print(\"Exercise 19: looks good!\")"
      ],
      "id": "fpO2LbE2upMy"
    },
    {
      "cell_type": "markdown",
      "metadata": {
        "id": "dIwZcxMcupMy"
      },
      "source": [
        "---\n",
        "\n",
        "## Exercise 20: SimpleNotifier: message buffer\n",
        "\n",
        "Create `SimpleNotifier` with attribute `messages` (list of str). Add `notify(msg)` to append and `latest()` to return the last message or `None` if empty."
      ],
      "id": "dIwZcxMcupMy"
    },
    {
      "cell_type": "code",
      "metadata": {
        "id": "jEFe6u0UupMy"
      },
      "execution_count": 19,
      "outputs": [],
      "source": [
        "class SimpleNotifier:\n",
        "    def __init__(self):\n",
        "        self.messages = []\n",
        "\n",
        "    def notify(self, msg: str) -> None:\n",
        "        self.messages.append(msg)\n",
        "\n",
        "    def latest(self):\n",
        "        if not self.messages:\n",
        "            return None\n",
        "        return self.messages[-1]"
      ],
      "id": "jEFe6u0UupMy"
    },
    {
      "cell_type": "code",
      "metadata": {
        "id": "M7_m_bzJupMy"
      },
      "execution_count": null,
      "outputs": [],
      "source": [
        "sn = SimpleNotifier()\n",
        "assert sn.latest() is None\n",
        "sn.notify(\"Book due tomorrow\")\n",
        "sn.notify(\"Hold available\")\n",
        "assert sn.latest() == \"Hold available\"\n",
        "print(\"Exercise 20: looks good!\")"
      ],
      "id": "M7_m_bzJupMy"
    }
  ]
}